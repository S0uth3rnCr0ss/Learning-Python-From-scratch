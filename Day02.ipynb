{
 "cells": [
  {
   "cell_type": "code",
   "execution_count": 1,
   "id": "3684b532-9253-4cd0-8f17-960ef7e7379a",
   "metadata": {},
   "outputs": [],
   "source": [
    "str1 = \"HelloWorld\""
   ]
  },
  {
   "cell_type": "code",
   "execution_count": 2,
   "id": "3c34de05-8be0-4c2c-a6e0-50e452ad90fb",
   "metadata": {},
   "outputs": [
    {
     "data": {
      "text/plain": [
       "'o'"
      ]
     },
     "execution_count": 2,
     "metadata": {},
     "output_type": "execute_result"
    }
   ],
   "source": [
    "str1[4]"
   ]
  },
  {
   "cell_type": "code",
   "execution_count": 3,
   "id": "6b691231-1528-4037-9e00-cbe6b3a08158",
   "metadata": {},
   "outputs": [
    {
     "data": {
      "text/plain": [
       "'e'"
      ]
     },
     "execution_count": 3,
     "metadata": {},
     "output_type": "execute_result"
    }
   ],
   "source": [
    "str1[1:2]"
   ]
  },
  {
   "cell_type": "code",
   "execution_count": 5,
   "id": "5cf386f7-2154-418c-b000-987aec330756",
   "metadata": {},
   "outputs": [
    {
     "data": {
      "text/plain": [
       "'hi'"
      ]
     },
     "execution_count": 5,
     "metadata": {},
     "output_type": "execute_result"
    }
   ],
   "source": [
    "name = \"Abhinav\"\n",
    "name[-5:4]"
   ]
  },
  {
   "cell_type": "code",
   "execution_count": 6,
   "id": "90d96d4b-8736-4559-be81-932fe4153263",
   "metadata": {},
   "outputs": [
    {
     "data": {
      "text/plain": [
       "'n'"
      ]
     },
     "execution_count": 6,
     "metadata": {},
     "output_type": "execute_result"
    }
   ],
   "source": [
    "name[4:5]"
   ]
  },
  {
   "cell_type": "code",
   "execution_count": 7,
   "id": "b3bafe9b-26d4-4640-8a46-ee2cb02e5be7",
   "metadata": {},
   "outputs": [
    {
     "data": {
      "text/plain": [
       "'Abhinav'"
      ]
     },
     "execution_count": 7,
     "metadata": {},
     "output_type": "execute_result"
    }
   ],
   "source": [
    "name[::1]"
   ]
  },
  {
   "cell_type": "code",
   "execution_count": 8,
   "id": "2a1542fa-5b3d-487f-9803-fd50859c4b39",
   "metadata": {},
   "outputs": [
    {
     "data": {
      "text/plain": [
       "'An'"
      ]
     },
     "execution_count": 8,
     "metadata": {},
     "output_type": "execute_result"
    }
   ],
   "source": [
    "name[::4]"
   ]
  },
  {
   "cell_type": "code",
   "execution_count": 9,
   "id": "a5973b77-8191-40ae-9ee9-1ee6cd13875d",
   "metadata": {},
   "outputs": [
    {
     "ename": "SyntaxError",
     "evalue": "invalid syntax (3013941756.py, line 1)",
     "output_type": "error",
     "traceback": [
      "\u001b[1;36m  Cell \u001b[1;32mIn[9], line 1\u001b[1;36m\u001b[0m\n\u001b[1;33m    rev.(name)\u001b[0m\n\u001b[1;37m        ^\u001b[0m\n\u001b[1;31mSyntaxError\u001b[0m\u001b[1;31m:\u001b[0m invalid syntax\n"
     ]
    }
   ],
   "source": [
    "rev.(name)"
   ]
  },
  {
   "cell_type": "code",
   "execution_count": 10,
   "id": "2a3882f6-5b6c-43f0-8852-6c18ea25f23d",
   "metadata": {},
   "outputs": [
    {
     "ename": "NameError",
     "evalue": "name 'rev' is not defined",
     "output_type": "error",
     "traceback": [
      "\u001b[1;31m---------------------------------------------------------------------------\u001b[0m",
      "\u001b[1;31mNameError\u001b[0m                                 Traceback (most recent call last)",
      "Cell \u001b[1;32mIn[10], line 1\u001b[0m\n\u001b[1;32m----> 1\u001b[0m \u001b[43mrev\u001b[49m(name)\n",
      "\u001b[1;31mNameError\u001b[0m: name 'rev' is not defined"
     ]
    }
   ],
   "source": [
    "rev(name)"
   ]
  },
  {
   "cell_type": "code",
   "execution_count": 11,
   "id": "cd445453-b45f-46f6-95cf-79cd3a452201",
   "metadata": {},
   "outputs": [
    {
     "ename": "AttributeError",
     "evalue": "'str' object has no attribute 'rev'",
     "output_type": "error",
     "traceback": [
      "\u001b[1;31m---------------------------------------------------------------------------\u001b[0m",
      "\u001b[1;31mAttributeError\u001b[0m                            Traceback (most recent call last)",
      "Cell \u001b[1;32mIn[11], line 1\u001b[0m\n\u001b[1;32m----> 1\u001b[0m \u001b[43mname\u001b[49m\u001b[38;5;241;43m.\u001b[39;49m\u001b[43mrev\u001b[49m\n",
      "\u001b[1;31mAttributeError\u001b[0m: 'str' object has no attribute 'rev'"
     ]
    }
   ],
   "source": [
    "name.rev"
   ]
  },
  {
   "cell_type": "code",
   "execution_count": 12,
   "id": "726517b2-a173-4851-91ac-d3515f02f48e",
   "metadata": {},
   "outputs": [
    {
     "data": {
      "text/plain": [
       "'vanihbA'"
      ]
     },
     "execution_count": 12,
     "metadata": {},
     "output_type": "execute_result"
    }
   ],
   "source": [
    "name[::-1]"
   ]
  },
  {
   "cell_type": "code",
   "execution_count": 1,
   "id": "b77a34d7-b6ae-44ad-b380-02b596d23bc3",
   "metadata": {},
   "outputs": [
    {
     "data": {
      "text/plain": [
       "' pyth'"
      ]
     },
     "execution_count": 1,
     "metadata": {},
     "output_type": "execute_result"
    }
   ],
   "source": [
    "string = \"learning python\"\n",
    "string[8:13]"
   ]
  },
  {
   "cell_type": "code",
   "execution_count": 2,
   "id": "16fdc01b-63a1-46ad-bc6e-1890b53cb081",
   "metadata": {},
   "outputs": [
    {
     "data": {
      "text/plain": [
       "' python'"
      ]
     },
     "execution_count": 2,
     "metadata": {},
     "output_type": "execute_result"
    }
   ],
   "source": [
    "string[8:15]"
   ]
  },
  {
   "cell_type": "code",
   "execution_count": 3,
   "id": "d27758bb-2ff5-4d4d-aff3-ad9f83fcd37e",
   "metadata": {},
   "outputs": [
    {
     "data": {
      "text/plain": [
       "''"
      ]
     },
     "execution_count": 3,
     "metadata": {},
     "output_type": "execute_result"
    }
   ],
   "source": [
    "string[8:15:-1]"
   ]
  },
  {
   "cell_type": "code",
   "execution_count": 4,
   "id": "55784b2c-3e01-4040-b23f-7f24f504ec38",
   "metadata": {},
   "outputs": [
    {
     "data": {
      "text/plain": [
       "'nohtyp'"
      ]
     },
     "execution_count": 4,
     "metadata": {},
     "output_type": "execute_result"
    }
   ],
   "source": [
    "string[15:8:-1]"
   ]
  },
  {
   "cell_type": "markdown",
   "id": "3a654307-f1e8-41b6-b364-0fbafc37d1fb",
   "metadata": {},
   "source": [
    "Concatenation"
   ]
  },
  {
   "cell_type": "code",
   "execution_count": 5,
   "id": "c60fa8f6-bf15-4c8a-9b19-00a27f1b9273",
   "metadata": {},
   "outputs": [],
   "source": [
    "strA = \"learning\"\n",
    "strB = \"_Strings\""
   ]
  },
  {
   "cell_type": "code",
   "execution_count": 6,
   "id": "24c2a6cb-49ec-4bd1-b7a2-e999eaeb6839",
   "metadata": {},
   "outputs": [
    {
     "data": {
      "text/plain": [
       "'learning_Strings'"
      ]
     },
     "execution_count": 6,
     "metadata": {},
     "output_type": "execute_result"
    }
   ],
   "source": [
    "strA+strB"
   ]
  },
  {
   "cell_type": "code",
   "execution_count": 7,
   "id": "c6435954-3b81-436f-9b09-d459d922e53c",
   "metadata": {},
   "outputs": [
    {
     "name": "stdout",
     "output_type": "stream",
     "text": [
      "learningStrings\n"
     ]
    }
   ],
   "source": [
    "print(\"learning\" + \"Strings\")"
   ]
  },
  {
   "cell_type": "code",
   "execution_count": 8,
   "id": "e0fb3deb-e02b-4a52-a19b-c0e86d058e00",
   "metadata": {},
   "outputs": [],
   "source": [
    "str = strA+strB"
   ]
  },
  {
   "cell_type": "code",
   "execution_count": 9,
   "id": "df4530a4-89fa-4927-bddd-483b3ac1e442",
   "metadata": {},
   "outputs": [
    {
     "name": "stdout",
     "output_type": "stream",
     "text": [
      "learning_Strings\n"
     ]
    }
   ],
   "source": [
    "print (str)"
   ]
  },
  {
   "cell_type": "code",
   "execution_count": 10,
   "id": "2409be0e-c5b5-489a-8183-55bea672498b",
   "metadata": {},
   "outputs": [
    {
     "data": {
      "text/plain": [
       "16"
      ]
     },
     "execution_count": 10,
     "metadata": {},
     "output_type": "execute_result"
    }
   ],
   "source": [
    "len(str)"
   ]
  },
  {
   "cell_type": "code",
   "execution_count": 11,
   "id": "ed7aac4a-d5b7-4fa7-9a9a-b32300101609",
   "metadata": {},
   "outputs": [
    {
     "data": {
      "text/plain": [
       "4"
      ]
     },
     "execution_count": 11,
     "metadata": {},
     "output_type": "execute_result"
    }
   ],
   "source": [
    "string.find(\"n\")"
   ]
  },
  {
   "cell_type": "code",
   "execution_count": 12,
   "id": "0dd1e6e6-dc92-4b08-8f99-f96db3addbb9",
   "metadata": {},
   "outputs": [
    {
     "ename": "AttributeError",
     "evalue": "'str' object has no attribute 'cout'",
     "output_type": "error",
     "traceback": [
      "\u001b[1;31m---------------------------------------------------------------------------\u001b[0m",
      "\u001b[1;31mAttributeError\u001b[0m                            Traceback (most recent call last)",
      "Cell \u001b[1;32mIn[12], line 1\u001b[0m\n\u001b[1;32m----> 1\u001b[0m \u001b[43mstring\u001b[49m\u001b[38;5;241;43m.\u001b[39;49m\u001b[43mcout\u001b[49m(\u001b[38;5;124m\"\u001b[39m\u001b[38;5;124mn\u001b[39m\u001b[38;5;124m\"\u001b[39m)\n",
      "\u001b[1;31mAttributeError\u001b[0m: 'str' object has no attribute 'cout'"
     ]
    }
   ],
   "source": [
    "string.cout(\"n\")"
   ]
  },
  {
   "cell_type": "code",
   "execution_count": 14,
   "id": "435772da-1c78-432d-981d-94865fab452c",
   "metadata": {},
   "outputs": [
    {
     "data": {
      "text/plain": [
       "3"
      ]
     },
     "execution_count": 14,
     "metadata": {},
     "output_type": "execute_result"
    }
   ],
   "source": [
    "string.count(\"n\")"
   ]
  },
  {
   "cell_type": "code",
   "execution_count": 15,
   "id": "154efaa1-2e61-4540-8391-15296f9701d1",
   "metadata": {},
   "outputs": [
    {
     "data": {
      "text/plain": [
       "'learning python'"
      ]
     },
     "execution_count": 15,
     "metadata": {},
     "output_type": "execute_result"
    }
   ],
   "source": [
    "string"
   ]
  },
  {
   "cell_type": "raw",
   "id": "64318212-f607-4cf3-bfb2-d6a5919f3fce",
   "metadata": {},
   "source": [
    "str"
   ]
  },
  {
   "cell_type": "code",
   "execution_count": 16,
   "id": "04f94f69-7526-415f-bbdf-24678bb6bb8e",
   "metadata": {},
   "outputs": [
    {
     "ename": "SyntaxError",
     "evalue": "unterminated string literal (detected at line 1) (2502450903.py, line 1)",
     "output_type": "error",
     "traceback": [
      "\u001b[1;36m  Cell \u001b[1;32mIn[16], line 1\u001b[1;36m\u001b[0m\n\u001b[1;33m    string.split(\"s\"\")\u001b[0m\n\u001b[1;37m                    ^\u001b[0m\n\u001b[1;31mSyntaxError\u001b[0m\u001b[1;31m:\u001b[0m unterminated string literal (detected at line 1)\n"
     ]
    }
   ],
   "source": [
    "string.split(\"s\"\")"
   ]
  },
  {
   "cell_type": "code",
   "execution_count": 17,
   "id": "fbfd56e9-0a73-455e-802c-5c1e00ca8a4d",
   "metadata": {},
   "outputs": [
    {
     "data": {
      "text/plain": [
       "['learning python']"
      ]
     },
     "execution_count": 17,
     "metadata": {},
     "output_type": "execute_result"
    }
   ],
   "source": [
    "string.split(\"s\")"
   ]
  },
  {
   "cell_type": "code",
   "execution_count": 18,
   "id": "fd9cc3b4-4535-4523-b1a7-320cff888500",
   "metadata": {},
   "outputs": [
    {
     "data": {
      "text/plain": [
       "('learning ', 'p', 'ython')"
      ]
     },
     "execution_count": 18,
     "metadata": {},
     "output_type": "execute_result"
    }
   ],
   "source": [
    "string.partition(\"p\")"
   ]
  },
  {
   "cell_type": "code",
   "execution_count": 19,
   "id": "0b48cea9-4c1f-40bb-bca4-a00cf9f64e35",
   "metadata": {},
   "outputs": [
    {
     "data": {
      "text/plain": [
       "'learning python'"
      ]
     },
     "execution_count": 19,
     "metadata": {},
     "output_type": "execute_result"
    }
   ],
   "source": [
    "string.lower()"
   ]
  },
  {
   "cell_type": "code",
   "execution_count": 20,
   "id": "aea985a6-45a9-4614-a464-4e3711fa114e",
   "metadata": {},
   "outputs": [
    {
     "data": {
      "text/plain": [
       "'LEARNING PYTHON'"
      ]
     },
     "execution_count": 20,
     "metadata": {},
     "output_type": "execute_result"
    }
   ],
   "source": [
    "string.upper()"
   ]
  },
  {
   "cell_type": "code",
   "execution_count": null,
   "id": "90fef12a-cc27-41d6-9068-7c13be3fcab0",
   "metadata": {},
   "outputs": [],
   "source": []
  },
  {
   "cell_type": "code",
   "execution_count": null,
   "id": "128806a2-401c-496d-92ff-8d91b27ae30d",
   "metadata": {},
   "outputs": [],
   "source": []
  },
  {
   "cell_type": "code",
   "execution_count": null,
   "id": "40bb292f-34d8-4f76-a371-91024bcc256e",
   "metadata": {},
   "outputs": [],
   "source": []
  },
  {
   "cell_type": "code",
   "execution_count": null,
   "id": "686163d4-c2a7-47e2-b57b-f39cf36862a8",
   "metadata": {},
   "outputs": [],
   "source": []
  }
 ],
 "metadata": {
  "kernelspec": {
   "display_name": "Python 3 (ipykernel)",
   "language": "python",
   "name": "python3"
  },
  "language_info": {
   "codemirror_mode": {
    "name": "ipython",
    "version": 3
   },
   "file_extension": ".py",
   "mimetype": "text/x-python",
   "name": "python",
   "nbconvert_exporter": "python",
   "pygments_lexer": "ipython3",
   "version": "3.11.7"
  }
 },
 "nbformat": 4,
 "nbformat_minor": 5
}
