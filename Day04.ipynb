{
 "cells": [
  {
   "cell_type": "markdown",
   "id": "8ecea62f-ee94-40b7-8428-943d22e8d39f",
   "metadata": {},
   "source": [
    "# Tuples"
   ]
  },
  {
   "cell_type": "code",
   "execution_count": 1,
   "id": "1db5e83f-8a3e-4207-89d3-fe8f3f8b64fc",
   "metadata": {},
   "outputs": [],
   "source": [
    "t = ()"
   ]
  },
  {
   "cell_type": "code",
   "execution_count": 2,
   "id": "3be3d724-e695-4aa2-8d17-a4e7eb1e4ccd",
   "metadata": {},
   "outputs": [
    {
     "data": {
      "text/plain": [
       "tuple"
      ]
     },
     "execution_count": 2,
     "metadata": {},
     "output_type": "execute_result"
    }
   ],
   "source": [
    "type(t)"
   ]
  },
  {
   "cell_type": "code",
   "execution_count": 3,
   "id": "cda9ca04-0827-447f-a130-8041a8a02d7c",
   "metadata": {},
   "outputs": [],
   "source": [
    "t1 = (3,7,6,\"python\",4.6)"
   ]
  },
  {
   "cell_type": "code",
   "execution_count": 4,
   "id": "7343f07d-41dd-4ab7-a13c-f62f5505dbdf",
   "metadata": {},
   "outputs": [
    {
     "data": {
      "text/plain": [
       "3"
      ]
     },
     "execution_count": 4,
     "metadata": {},
     "output_type": "execute_result"
    }
   ],
   "source": [
    "t1[0]"
   ]
  },
  {
   "cell_type": "code",
   "execution_count": 5,
   "id": "d277f6c3-ccd1-41c0-8160-5a1061623068",
   "metadata": {},
   "outputs": [],
   "source": [
    "#reverse of tuple"
   ]
  },
  {
   "cell_type": "code",
   "execution_count": 6,
   "id": "7d8bcc1c-9b87-4fa0-ba9d-ee33b6de459a",
   "metadata": {},
   "outputs": [
    {
     "data": {
      "text/plain": [
       "(4.6, 'python', 6, 7, 3)"
      ]
     },
     "execution_count": 6,
     "metadata": {},
     "output_type": "execute_result"
    }
   ],
   "source": [
    "t1[::-1]"
   ]
  },
  {
   "cell_type": "code",
   "execution_count": 7,
   "id": "3668fbef-2c43-41c4-a932-9548b22fe879",
   "metadata": {},
   "outputs": [],
   "source": [
    "t1 = t1[::-1]"
   ]
  },
  {
   "cell_type": "code",
   "execution_count": 8,
   "id": "3c01cc5e-4e84-4458-8d27-5323c7d01d27",
   "metadata": {},
   "outputs": [
    {
     "data": {
      "text/plain": [
       "(4.6, 'python')"
      ]
     },
     "execution_count": 8,
     "metadata": {},
     "output_type": "execute_result"
    }
   ],
   "source": [
    "t1[0:2]"
   ]
  },
  {
   "cell_type": "code",
   "execution_count": 10,
   "id": "db61b971-2905-4bc0-be64-d20fd22e4f38",
   "metadata": {},
   "outputs": [
    {
     "data": {
      "text/plain": [
       "1"
      ]
     },
     "execution_count": 10,
     "metadata": {},
     "output_type": "execute_result"
    }
   ],
   "source": [
    "t1.count(6)"
   ]
  },
  {
   "cell_type": "code",
   "execution_count": 11,
   "id": "e768e1f9-f57f-4936-a0f5-7372a26dd1de",
   "metadata": {},
   "outputs": [
    {
     "data": {
      "text/plain": [
       "2"
      ]
     },
     "execution_count": 11,
     "metadata": {},
     "output_type": "execute_result"
    }
   ],
   "source": [
    "t1.index(6)"
   ]
  },
  {
   "cell_type": "code",
   "execution_count": 13,
   "id": "554b35be-c598-4c95-8617-f12570cc6c83",
   "metadata": {},
   "outputs": [
    {
     "data": {
      "text/plain": [
       "0"
      ]
     },
     "execution_count": 13,
     "metadata": {},
     "output_type": "execute_result"
    }
   ],
   "source": [
    "t1.count(True)"
   ]
  },
  {
   "cell_type": "code",
   "execution_count": 17,
   "id": "57e76dd0-12c4-4f20-8900-091895649c55",
   "metadata": {},
   "outputs": [
    {
     "name": "stdout",
     "output_type": "stream",
     "text": [
      "4.6 <class 'float'>\n",
      "python <class 'str'>\n",
      "6 <class 'int'>\n",
      "7 <class 'int'>\n",
      "3 <class 'int'>\n"
     ]
    }
   ],
   "source": [
    "for i in t1:\n",
    "    print(i,type(i))"
   ]
  },
  {
   "cell_type": "code",
   "execution_count": 20,
   "id": "45b0278b-6e83-4287-9d82-5ce332ae3a56",
   "metadata": {},
   "outputs": [
    {
     "data": {
      "text/plain": [
       "((1, 2, 3, 4), (4, 6, 7, 9))"
      ]
     },
     "execution_count": 20,
     "metadata": {},
     "output_type": "execute_result"
    }
   ],
   "source": [
    "t2 = (1,2,3,4)\n",
    "t3 = (4,6,7,9)\n",
    "t4 = (t2,t3)\n",
    "t4"
   ]
  },
  {
   "cell_type": "code",
   "execution_count": 21,
   "id": "a6daafb0-24a8-491f-ad1a-71a1c0d3ab87",
   "metadata": {},
   "outputs": [
    {
     "data": {
      "text/plain": [
       "4"
      ]
     },
     "execution_count": 21,
     "metadata": {},
     "output_type": "execute_result"
    }
   ],
   "source": [
    "len(t2)"
   ]
  },
  {
   "cell_type": "code",
   "execution_count": 22,
   "id": "63ba3a2d-bd31-4b91-8855-7666a37dbe7c",
   "metadata": {},
   "outputs": [
    {
     "data": {
      "text/plain": [
       "(1, 2, 3, 4)"
      ]
     },
     "execution_count": 22,
     "metadata": {},
     "output_type": "execute_result"
    }
   ],
   "source": [
    "t2"
   ]
  },
  {
   "cell_type": "code",
   "execution_count": 23,
   "id": "571ef6cd-8ad3-484f-a838-d94858b1bc32",
   "metadata": {},
   "outputs": [
    {
     "data": {
      "text/plain": [
       "(4.6, 'python', 6, 7, 3)"
      ]
     },
     "execution_count": 23,
     "metadata": {},
     "output_type": "execute_result"
    }
   ],
   "source": [
    "t1"
   ]
  },
  {
   "cell_type": "code",
   "execution_count": 24,
   "id": "1f7dfa63-9e6c-4289-b90a-2b48661db77f",
   "metadata": {},
   "outputs": [
    {
     "data": {
      "text/plain": [
       "True"
      ]
     },
     "execution_count": 24,
     "metadata": {},
     "output_type": "execute_result"
    }
   ],
   "source": [
    "\"python\" in t1"
   ]
  },
  {
   "cell_type": "markdown",
   "id": "bb5d7245-848b-40eb-bc02-2c128372e18a",
   "metadata": {},
   "source": [
    "# Sets"
   ]
  },
  {
   "cell_type": "code",
   "execution_count": 25,
   "id": "28209ab3-3508-4158-9079-c8dccd7c011e",
   "metadata": {},
   "outputs": [],
   "source": [
    "s = {}"
   ]
  },
  {
   "cell_type": "code",
   "execution_count": 26,
   "id": "c3665c99-225d-4f8c-af8d-0051b6dd7a69",
   "metadata": {},
   "outputs": [
    {
     "data": {
      "text/plain": [
       "dict"
      ]
     },
     "execution_count": 26,
     "metadata": {},
     "output_type": "execute_result"
    }
   ],
   "source": [
    "type(s)"
   ]
  },
  {
   "cell_type": "code",
   "execution_count": 27,
   "id": "fb61da0e-b810-4661-96ce-6c2845d72777",
   "metadata": {},
   "outputs": [
    {
     "data": {
      "text/plain": [
       "set"
      ]
     },
     "execution_count": 27,
     "metadata": {},
     "output_type": "execute_result"
    }
   ],
   "source": [
    "s1 = {2,5,6,1,7}\n",
    "type(s1)"
   ]
  },
  {
   "cell_type": "code",
   "execution_count": 29,
   "id": "921fdbf2-89a3-4565-8f8c-657eeb0b92d8",
   "metadata": {},
   "outputs": [],
   "source": [
    "s2 = {1,2,1,3,55,77,45,2,4,3}"
   ]
  },
  {
   "cell_type": "code",
   "execution_count": 30,
   "id": "87bf89e5-3291-4062-a943-9c6171479a7b",
   "metadata": {},
   "outputs": [
    {
     "data": {
      "text/plain": [
       "{1, 2, 3, 4, 45, 55, 77}"
      ]
     },
     "execution_count": 30,
     "metadata": {},
     "output_type": "execute_result"
    }
   ],
   "source": [
    "s2"
   ]
  },
  {
   "cell_type": "code",
   "execution_count": 31,
   "id": "aec792cc-e9cb-4dab-83fa-4d55f62a1700",
   "metadata": {},
   "outputs": [],
   "source": [
    "## Sets remove duplicate informations"
   ]
  },
  {
   "cell_type": "code",
   "execution_count": 32,
   "id": "897613c6-bc5f-4456-a30b-042a42a31fd9",
   "metadata": {},
   "outputs": [
    {
     "data": {
      "text/plain": [
       "(1, 2, 3, 4, 45, 55, 77)"
      ]
     },
     "execution_count": 32,
     "metadata": {},
     "output_type": "execute_result"
    }
   ],
   "source": [
    "tuple(s2)"
   ]
  },
  {
   "cell_type": "code",
   "execution_count": 34,
   "id": "4fe0a7dd-9785-4788-8207-73a4c2c2d16e",
   "metadata": {},
   "outputs": [
    {
     "data": {
      "text/plain": [
       "set"
      ]
     },
     "execution_count": 34,
     "metadata": {},
     "output_type": "execute_result"
    }
   ],
   "source": [
    "type(s2)"
   ]
  },
  {
   "cell_type": "code",
   "execution_count": 35,
   "id": "fc5cb625-c46d-4bbf-a26c-a5254d4b3ddd",
   "metadata": {},
   "outputs": [],
   "source": [
    "s3 = {\"python\",\"Abhinav\",2,4,3,7}"
   ]
  },
  {
   "cell_type": "markdown",
   "id": "22971288-fad6-455c-8e40-0dcf1a4539bd",
   "metadata": {},
   "source": [
    "# Dictionaries"
   ]
  },
  {
   "cell_type": "code",
   "execution_count": 1,
   "id": "cc3c5b0f-5161-4dd8-9088-88f39492cac2",
   "metadata": {},
   "outputs": [],
   "source": [
    "dict = {\"key1\":\"value1\",\"key2\":\"value2\"}"
   ]
  },
  {
   "cell_type": "code",
   "execution_count": 2,
   "id": "0bc1a015-4e93-43ba-abf1-a9daef00de8d",
   "metadata": {},
   "outputs": [
    {
     "data": {
      "text/plain": [
       "dict"
      ]
     },
     "execution_count": 2,
     "metadata": {},
     "output_type": "execute_result"
    }
   ],
   "source": [
    "type(dict)"
   ]
  },
  {
   "cell_type": "code",
   "execution_count": 3,
   "id": "a9a891ef-251f-43e9-bd92-5567cbf29f33",
   "metadata": {},
   "outputs": [],
   "source": [
    "d2 ={23:\"arma\"}"
   ]
  },
  {
   "cell_type": "code",
   "execution_count": 6,
   "id": "bce4ab64-a011-49b4-9765-1532aed12017",
   "metadata": {},
   "outputs": [],
   "source": [
    "#key of the dictionary should be hashable"
   ]
  },
  {
   "cell_type": "code",
   "execution_count": null,
   "id": "277cbaa8-21e6-4b26-8e86-e2e8e832eb0f",
   "metadata": {},
   "outputs": [],
   "source": []
  }
 ],
 "metadata": {
  "kernelspec": {
   "display_name": "Python 3 (ipykernel)",
   "language": "python",
   "name": "python3"
  },
  "language_info": {
   "codemirror_mode": {
    "name": "ipython",
    "version": 3
   },
   "file_extension": ".py",
   "mimetype": "text/x-python",
   "name": "python",
   "nbconvert_exporter": "python",
   "pygments_lexer": "ipython3",
   "version": "3.11.7"
  }
 },
 "nbformat": 4,
 "nbformat_minor": 5
}
