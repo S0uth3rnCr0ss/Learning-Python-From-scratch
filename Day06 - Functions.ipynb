{
 "cells": [
  {
   "cell_type": "markdown",
   "id": "af413169-cb75-4c87-a7a7-d69c7bb4a1e4",
   "metadata": {},
   "source": [
    "# Functions"
   ]
  },
  {
   "cell_type": "markdown",
   "id": "9590bac0-0e8b-4ca8-ad47-c7652b53fa78",
   "metadata": {},
   "source": [
    "A function is a block of code which only runs when it is called."
   ]
  },
  {
   "cell_type": "code",
   "execution_count": 5,
   "id": "74504d66-01d9-437c-bbcc-7fb6190903db",
   "metadata": {},
   "outputs": [],
   "source": [
    "def func():\n",
    "    cal = 2+5*7 \n",
    "    return cal"
   ]
  },
  {
   "cell_type": "code",
   "execution_count": 7,
   "id": "c7b6dd12-2d57-4ba1-8e5b-a746bb879d14",
   "metadata": {},
   "outputs": [
    {
     "data": {
      "text/plain": [
       "37"
      ]
     },
     "execution_count": 7,
     "metadata": {},
     "output_type": "execute_result"
    }
   ],
   "source": [
    "func()"
   ]
  },
  {
   "cell_type": "code",
   "execution_count": 8,
   "id": "4759f697-5e0a-49ba-a260-53902ea79032",
   "metadata": {},
   "outputs": [
    {
     "data": {
      "text/plain": [
       "int"
      ]
     },
     "execution_count": 8,
     "metadata": {},
     "output_type": "execute_result"
    }
   ],
   "source": [
    "type(func())"
   ]
  },
  {
   "cell_type": "code",
   "execution_count": 9,
   "id": "4b4bb8e6-1315-4c63-a3cf-3fee8a4589fa",
   "metadata": {},
   "outputs": [
    {
     "data": {
      "text/plain": [
       "9"
      ]
     },
     "execution_count": 9,
     "metadata": {},
     "output_type": "execute_result"
    }
   ],
   "source": [
    "def square(a):\n",
    "    return a**2\n",
    "\n",
    "square(3)"
   ]
  },
  {
   "cell_type": "code",
   "execution_count": 11,
   "id": "b609ced6-45d7-42f8-a7f5-dc820dbdd341",
   "metadata": {},
   "outputs": [
    {
     "data": {
      "text/plain": [
       "7"
      ]
     },
     "execution_count": 11,
     "metadata": {},
     "output_type": "execute_result"
    }
   ],
   "source": [
    "def sum_1(a,b,c):\n",
    "    return a+b+c\n",
    "\n",
    "sum_1(1,2,4)"
   ]
  },
  {
   "cell_type": "code",
   "execution_count": 12,
   "id": "3fefcc9f-f14b-4076-923d-ddbb2f99f019",
   "metadata": {},
   "outputs": [
    {
     "ename": "TypeError",
     "evalue": "sum_1() missing 1 required positional argument: 'c'",
     "output_type": "error",
     "traceback": [
      "\u001b[1;31m---------------------------------------------------------------------------\u001b[0m",
      "\u001b[1;31mTypeError\u001b[0m                                 Traceback (most recent call last)",
      "Cell \u001b[1;32mIn[12], line 1\u001b[0m\n\u001b[1;32m----> 1\u001b[0m \u001b[43msum_1\u001b[49m\u001b[43m(\u001b[49m\u001b[38;5;241;43m1\u001b[39;49m\u001b[43m,\u001b[49m\u001b[38;5;241;43m2\u001b[39;49m\u001b[43m)\u001b[49m\n",
      "\u001b[1;31mTypeError\u001b[0m: sum_1() missing 1 required positional argument: 'c'"
     ]
    }
   ],
   "source": [
    "sum_1(1,2)"
   ]
  },
  {
   "cell_type": "code",
   "execution_count": 13,
   "id": "4ab22b60-9d21-46f9-aa84-fa331661e1b2",
   "metadata": {},
   "outputs": [],
   "source": [
    "def sum_2(a=0,b=0,c=0): #initiates with 0\n",
    "    return a+b+c"
   ]
  },
  {
   "cell_type": "code",
   "execution_count": 14,
   "id": "83124c41-bbd8-48e6-8880-1d4f7a7403f9",
   "metadata": {},
   "outputs": [
    {
     "data": {
      "text/plain": [
       "3"
      ]
     },
     "execution_count": 14,
     "metadata": {},
     "output_type": "execute_result"
    }
   ],
   "source": [
    "sum_2(1,2)"
   ]
  },
  {
   "cell_type": "code",
   "execution_count": 7,
   "id": "bb03536b-ed8e-4e43-97f6-7a3e3d1422f0",
   "metadata": {},
   "outputs": [],
   "source": [
    "#Function that takes a list as input and returns list of all the numbers in list as output\n",
    "def numeric(a):\n",
    "    n=[]\n",
    "    for i in a:\n",
    "        if type(i) == int or type(i) == float:\n",
    "            n.append(i)\n",
    "    return n"
   ]
  },
  {
   "cell_type": "code",
   "execution_count": 8,
   "id": "1f594cfa-d809-499a-8b69-3de3ae17ce9d",
   "metadata": {},
   "outputs": [
    {
     "data": {
      "text/plain": [
       "[1, 5, 9]"
      ]
     },
     "execution_count": 8,
     "metadata": {},
     "output_type": "execute_result"
    }
   ],
   "source": [
    "numeric([1,5,'w',9])"
   ]
  },
  {
   "cell_type": "code",
   "execution_count": null,
   "id": "99a37551-b40e-47f5-9834-ec6645d7582f",
   "metadata": {},
   "outputs": [],
   "source": []
  }
 ],
 "metadata": {
  "kernelspec": {
   "display_name": "Python 3 (ipykernel)",
   "language": "python",
   "name": "python3"
  },
  "language_info": {
   "codemirror_mode": {
    "name": "ipython",
    "version": 3
   },
   "file_extension": ".py",
   "mimetype": "text/x-python",
   "name": "python",
   "nbconvert_exporter": "python",
   "pygments_lexer": "ipython3",
   "version": "3.11.7"
  }
 },
 "nbformat": 4,
 "nbformat_minor": 5
}
