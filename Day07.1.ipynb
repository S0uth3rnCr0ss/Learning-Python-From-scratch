{
 "cells": [
  {
   "cell_type": "markdown",
   "id": "0d4e3f9b-da6e-4d0f-acea-843566bb5ea6",
   "metadata": {},
   "source": [
    "# Lambda function"
   ]
  },
  {
   "cell_type": "code",
   "execution_count": 4,
   "id": "dbf2dcb0-4840-4906-8d5d-2878b57ad1b2",
   "metadata": {},
   "outputs": [
    {
     "data": {
      "text/plain": [
       "4"
      ]
     },
     "execution_count": 4,
     "metadata": {},
     "output_type": "execute_result"
    }
   ],
   "source": [
    "#Squaring a number using normal function \n",
    "def sq(n):\n",
    "    return n**2\n",
    "\n",
    "sq(2)"
   ]
  },
  {
   "cell_type": "code",
   "execution_count": 3,
   "id": "cc4903a3-108a-4f5b-9fd6-113a003586c2",
   "metadata": {},
   "outputs": [
    {
     "data": {
      "text/plain": [
       "4"
      ]
     },
     "execution_count": 3,
     "metadata": {},
     "output_type": "execute_result"
    }
   ],
   "source": [
    "#Squaring a number using lambda function\n",
    "sq = lambda x:x**2\n",
    "sq(2)"
   ]
  },
  {
   "cell_type": "code",
   "execution_count": 8,
   "id": "c95ce9cb-e8e2-446a-8ded-de817c3fe877",
   "metadata": {},
   "outputs": [
    {
     "data": {
      "text/plain": [
       "[0, 1, 1, 2, 3, 5, 8, 13, 21, 34]"
      ]
     },
     "execution_count": 8,
     "metadata": {},
     "output_type": "execute_result"
    }
   ],
   "source": [
    "#fibonacci series \n",
    "fib = lambda n:n if n<=1 else fib(n-1)+fib(n-2)\n",
    "[fib(i) for i in range(10)]"
   ]
  },
  {
   "cell_type": "markdown",
   "id": "80eaed3b-e83b-4eb7-8938-d3bc78b4878f",
   "metadata": {},
   "source": []
  },
  {
   "cell_type": "code",
   "execution_count": null,
   "id": "87a1d414-e160-44e7-b5ae-6c989e3ac048",
   "metadata": {},
   "outputs": [],
   "source": []
  }
 ],
 "metadata": {
  "kernelspec": {
   "display_name": "Python 3 (ipykernel)",
   "language": "python",
   "name": "python3"
  },
  "language_info": {
   "codemirror_mode": {
    "name": "ipython",
    "version": 3
   },
   "file_extension": ".py",
   "mimetype": "text/x-python",
   "name": "python",
   "nbconvert_exporter": "python",
   "pygments_lexer": "ipython3",
   "version": "3.11.7"
  }
 },
 "nbformat": 4,
 "nbformat_minor": 5
}
