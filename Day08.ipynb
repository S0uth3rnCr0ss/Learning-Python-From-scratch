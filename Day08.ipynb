{
 "cells": [
  {
   "cell_type": "markdown",
   "id": "33eea8c1-d06f-40aa-bf35-06edaa097374",
   "metadata": {},
   "source": [
    "# Iterators"
   ]
  },
  {
   "cell_type": "code",
   "execution_count": 1,
   "id": "e082852f-56f7-43bf-9234-73e1c1258e99",
   "metadata": {},
   "outputs": [],
   "source": [
    "# Iterators are objects that are used to iterate through an object like lists , dictionaries , strings."
   ]
  },
  {
   "cell_type": "code",
   "execution_count": 18,
   "id": "75afe3e1-c999-4495-a7b6-410425f13163",
   "metadata": {},
   "outputs": [
    {
     "name": "stdout",
     "output_type": "stream",
     "text": [
      "1\n",
      "2\n",
      "3\n",
      "arma\n"
     ]
    }
   ],
   "source": [
    "# Iteration using loops.\n",
    "l = [1,2,3,\"arma\"]\n",
    "for i in l:\n",
    "    print(i)"
   ]
  },
  {
   "cell_type": "code",
   "execution_count": 19,
   "id": "e6875d83-b8a9-4107-a34d-517064b0abfb",
   "metadata": {},
   "outputs": [],
   "source": [
    "# Using iterators\n",
    "a = iter(l)"
   ]
  },
  {
   "cell_type": "code",
   "execution_count": 20,
   "id": "f2b0e438-367d-442f-ad96-4a308e424f8a",
   "metadata": {},
   "outputs": [
    {
     "data": {
      "text/plain": [
       "1"
      ]
     },
     "execution_count": 20,
     "metadata": {},
     "output_type": "execute_result"
    }
   ],
   "source": [
    "next(a)"
   ]
  },
  {
   "cell_type": "code",
   "execution_count": 21,
   "id": "bf467679-fd5c-46e4-9d72-be840c0b3b97",
   "metadata": {},
   "outputs": [
    {
     "data": {
      "text/plain": [
       "2"
      ]
     },
     "execution_count": 21,
     "metadata": {},
     "output_type": "execute_result"
    }
   ],
   "source": [
    "next(a)"
   ]
  },
  {
   "cell_type": "code",
   "execution_count": 22,
   "id": "dd4d6f1c-05a2-4cfc-8dfa-2f1811acb625",
   "metadata": {},
   "outputs": [
    {
     "data": {
      "text/plain": [
       "3"
      ]
     },
     "execution_count": 22,
     "metadata": {},
     "output_type": "execute_result"
    }
   ],
   "source": [
    "next(a)"
   ]
  },
  {
   "cell_type": "code",
   "execution_count": 23,
   "id": "8bdb179e-2209-4f02-bf62-49171755187e",
   "metadata": {},
   "outputs": [
    {
     "data": {
      "text/plain": [
       "'arma'"
      ]
     },
     "execution_count": 23,
     "metadata": {},
     "output_type": "execute_result"
    }
   ],
   "source": [
    "next(a)"
   ]
  },
  {
   "cell_type": "markdown",
   "id": "73569482-40a9-4b7d-9026-e0e8be736021",
   "metadata": {},
   "source": [
    "# Generator function"
   ]
  },
  {
   "cell_type": "code",
   "execution_count": 27,
   "id": "4d4cb71e-980d-4061-8c30-e0b3d2d90f25",
   "metadata": {},
   "outputs": [],
   "source": [
    "# Using regular function.\n",
    "def square(a):\n",
    "    result = []\n",
    "    for i in range(a):\n",
    "        result.append(i**2)\n",
    "\n",
    "square(3)"
   ]
  },
  {
   "cell_type": "code",
   "execution_count": null,
   "id": "c0e2982c-c544-4fdc-95fc-a2a7d037e960",
   "metadata": {},
   "outputs": [],
   "source": []
  },
  {
   "cell_type": "code",
   "execution_count": 41,
   "id": "53f4f67a-dce7-4a3d-aad4-01113199a6eb",
   "metadata": {},
   "outputs": [
    {
     "data": {
      "text/plain": [
       "0"
      ]
     },
     "execution_count": 41,
     "metadata": {},
     "output_type": "execute_result"
    }
   ],
   "source": [
    "# Uing generator function\n",
    "def square_gen(n):\n",
    "    for i in range(n):\n",
    "        yield i**2\n",
    "\n",
    "g = square_gen(3)\n",
    "next(g)"
   ]
  },
  {
   "cell_type": "code",
   "execution_count": 42,
   "id": "43921952-8c36-47c3-8f4c-80588527f1a7",
   "metadata": {},
   "outputs": [
    {
     "data": {
      "text/plain": [
       "1"
      ]
     },
     "execution_count": 42,
     "metadata": {},
     "output_type": "execute_result"
    }
   ],
   "source": [
    "next(g)"
   ]
  },
  {
   "cell_type": "code",
   "execution_count": 43,
   "id": "b50540a8-2f48-4dfc-aef7-0d6862476892",
   "metadata": {},
   "outputs": [
    {
     "data": {
      "text/plain": [
       "4"
      ]
     },
     "execution_count": 43,
     "metadata": {},
     "output_type": "execute_result"
    }
   ],
   "source": [
    "next(g)"
   ]
  },
  {
   "cell_type": "code",
   "execution_count": 53,
   "id": "09c31490-da75-44fb-8453-b253d56fba08",
   "metadata": {},
   "outputs": [
    {
     "name": "stdout",
     "output_type": "stream",
     "text": [
      "<generator object fib at 0x00000224C94434C0>\n"
     ]
    }
   ],
   "source": [
    "# Fibonacci series using generator finction\n",
    "def fib(n):\n",
    "    a = 0\n",
    "    b = 1\n",
    "    for i in range(n):\n",
    "        yield a\n",
    "        a , b = b , a+b\n",
    "\n",
    "f = fib(8)\n",
    "print(f)"
   ]
  },
  {
   "cell_type": "code",
   "execution_count": 54,
   "id": "ec4c9257-ab4c-4efe-8826-23a79d7be5b5",
   "metadata": {},
   "outputs": [
    {
     "data": {
      "text/plain": [
       "0"
      ]
     },
     "execution_count": 54,
     "metadata": {},
     "output_type": "execute_result"
    }
   ],
   "source": [
    "next(f)"
   ]
  },
  {
   "cell_type": "code",
   "execution_count": 55,
   "id": "5c2b67b4-dc78-4bba-a135-96ebd9e349cd",
   "metadata": {},
   "outputs": [
    {
     "data": {
      "text/plain": [
       "1"
      ]
     },
     "execution_count": 55,
     "metadata": {},
     "output_type": "execute_result"
    }
   ],
   "source": [
    "next(f)"
   ]
  },
  {
   "cell_type": "code",
   "execution_count": 56,
   "id": "0b903364-c5b2-4daf-b0ef-b4495fd89d69",
   "metadata": {},
   "outputs": [
    {
     "data": {
      "text/plain": [
       "1"
      ]
     },
     "execution_count": 56,
     "metadata": {},
     "output_type": "execute_result"
    }
   ],
   "source": [
    "next(f)"
   ]
  },
  {
   "cell_type": "code",
   "execution_count": 57,
   "id": "e8904f8f-b211-49a5-bffd-613a57fcc631",
   "metadata": {},
   "outputs": [
    {
     "data": {
      "text/plain": [
       "2"
      ]
     },
     "execution_count": 57,
     "metadata": {},
     "output_type": "execute_result"
    }
   ],
   "source": [
    "next(f)"
   ]
  },
  {
   "cell_type": "code",
   "execution_count": 58,
   "id": "1e1b4c9d-934b-4d1c-a6f6-ee8ec271a31e",
   "metadata": {},
   "outputs": [
    {
     "data": {
      "text/plain": [
       "3"
      ]
     },
     "execution_count": 58,
     "metadata": {},
     "output_type": "execute_result"
    }
   ],
   "source": [
    "next(f)"
   ]
  },
  {
   "cell_type": "code",
   "execution_count": 59,
   "id": "8586bd2a-e1f2-4127-8066-6cb2349794fb",
   "metadata": {},
   "outputs": [
    {
     "data": {
      "text/plain": [
       "5"
      ]
     },
     "execution_count": 59,
     "metadata": {},
     "output_type": "execute_result"
    }
   ],
   "source": [
    "next(f)"
   ]
  },
  {
   "cell_type": "code",
   "execution_count": 64,
   "id": "e80ae18f-ece0-403f-b6c3-83af17934bb3",
   "metadata": {},
   "outputs": [
    {
     "name": "stdout",
     "output_type": "stream",
     "text": [
      "<generator object fact at 0x00000224C939EA80>\n"
     ]
    }
   ],
   "source": [
    "# Factorial \n",
    "def fact(n):\n",
    "    a = 0\n",
    "    b = 1\n",
    "    while True:\n",
    "        a += 1\n",
    "        b *= a\n",
    "        yield b\n",
    "\n",
    "f = fact(3)\n",
    "print(f)"
   ]
  },
  {
   "cell_type": "code",
   "execution_count": 65,
   "id": "784f8739-415a-48f1-baff-88c2c84467a1",
   "metadata": {},
   "outputs": [
    {
     "data": {
      "text/plain": [
       "1"
      ]
     },
     "execution_count": 65,
     "metadata": {},
     "output_type": "execute_result"
    }
   ],
   "source": [
    "next(f)"
   ]
  },
  {
   "cell_type": "code",
   "execution_count": 66,
   "id": "76bc8392-20d7-44a2-8d10-7d425fcb96ae",
   "metadata": {},
   "outputs": [
    {
     "data": {
      "text/plain": [
       "2"
      ]
     },
     "execution_count": 66,
     "metadata": {},
     "output_type": "execute_result"
    }
   ],
   "source": [
    "next(f)"
   ]
  },
  {
   "cell_type": "code",
   "execution_count": 67,
   "id": "70a016ba-3a9d-43a6-b0ec-5544b9113295",
   "metadata": {},
   "outputs": [
    {
     "data": {
      "text/plain": [
       "6"
      ]
     },
     "execution_count": 67,
     "metadata": {},
     "output_type": "execute_result"
    }
   ],
   "source": [
    "next(f)"
   ]
  },
  {
   "cell_type": "code",
   "execution_count": null,
   "id": "1655c3d9-2b4e-4387-b7ee-18bbe51de6ed",
   "metadata": {},
   "outputs": [],
   "source": []
  }
 ],
 "metadata": {
  "kernelspec": {
   "display_name": "Python 3 (ipykernel)",
   "language": "python",
   "name": "python3"
  },
  "language_info": {
   "codemirror_mode": {
    "name": "ipython",
    "version": 3
   },
   "file_extension": ".py",
   "mimetype": "text/x-python",
   "name": "python",
   "nbconvert_exporter": "python",
   "pygments_lexer": "ipython3",
   "version": "3.11.7"
  }
 },
 "nbformat": 4,
 "nbformat_minor": 5
}
