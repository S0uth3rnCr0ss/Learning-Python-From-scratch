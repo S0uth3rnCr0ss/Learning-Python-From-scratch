{
 "cells": [
  {
   "cell_type": "markdown",
   "id": "e867ccb9-fa0b-44e4-b5ce-2cf98e31b3fc",
   "metadata": {},
   "source": [
    "# OOPS"
   ]
  },
  {
   "cell_type": "code",
   "execution_count": 6,
   "id": "4be57b1d-6ed4-49c4-9499-cc211ad0c8f7",
   "metadata": {},
   "outputs": [
    {
     "name": "stdout",
     "output_type": "stream",
     "text": [
      "<class 'int'>\n"
     ]
    }
   ],
   "source": [
    "a = 5 \n",
    "print(type(a))"
   ]
  },
  {
   "cell_type": "code",
   "execution_count": 7,
   "id": "225f1378-82a1-4ccd-b208-141069a10943",
   "metadata": {},
   "outputs": [],
   "source": [
    "# Defining a class \n",
    "class Car:\n",
    "    pass"
   ]
  },
  {
   "cell_type": "code",
   "execution_count": 8,
   "id": "76d395c1-31c0-41c0-86d6-fbbcdd2bc0f7",
   "metadata": {},
   "outputs": [
    {
     "name": "stdout",
     "output_type": "stream",
     "text": [
      "<class '__main__.Car'>\n"
     ]
    }
   ],
   "source": [
    "a = Car()\n",
    "print(type(a))"
   ]
  },
  {
   "cell_type": "code",
   "execution_count": 16,
   "id": "57788f47-a16c-493d-8f84-088748f73710",
   "metadata": {},
   "outputs": [
    {
     "name": "stdout",
     "output_type": "stream",
     "text": [
      "Car is stopped\n"
     ]
    }
   ],
   "source": [
    "class Car():\n",
    "    def accelerate(self):\n",
    "        print(\"Car is accelerating\")\n",
    "    def brake(self):\n",
    "        print(\"Car is stopped\")\n",
    "\n",
    "a = Car()\n",
    "a.accelerate\n",
    "a.brake()"
   ]
  },
  {
   "cell_type": "code",
   "execution_count": 24,
   "id": "6f71e6c5-1816-424f-bb13-3c146233c7fa",
   "metadata": {},
   "outputs": [],
   "source": [
    "class Listops:\n",
    "    def __init__(self,l):\n",
    "        self.l = l\n",
    "    def extract_even(self,l):\n",
    "        l1 = []\n",
    "        for i in l:\n",
    "            if i%2 == 0:\n",
    "                l1.append(i)\n",
    "        return l1\n",
    "    def extract_odd(self,l):\n",
    "        l1 = []\n",
    "        for i in l:\n",
    "            if i%2 != 0:\n",
    "                l1.append(i)\n",
    "        return l1"
   ]
  },
  {
   "cell_type": "code",
   "execution_count": 25,
   "id": "64880dd0-93a8-41ac-8477-4693c5a3ebf6",
   "metadata": {},
   "outputs": [
    {
     "data": {
      "text/plain": [
       "[1, 2, 3, 4, 6, 7, 8]"
      ]
     },
     "execution_count": 25,
     "metadata": {},
     "output_type": "execute_result"
    }
   ],
   "source": [
    "obj1 = Listops([1,2,3,4,6,7,8])\n",
    "obj1.l"
   ]
  },
  {
   "cell_type": "code",
   "execution_count": 26,
   "id": "2355b2ef-4e71-483d-8371-68ff21c45c13",
   "metadata": {},
   "outputs": [
    {
     "data": {
      "text/plain": [
       "[2, 4, 6, 8]"
      ]
     },
     "execution_count": 26,
     "metadata": {},
     "output_type": "execute_result"
    }
   ],
   "source": [
    "obj1.extract_even([1,2,3,4,6,7,8])"
   ]
  },
  {
   "cell_type": "code",
   "execution_count": 21,
   "id": "1e9b47dd-17f2-4914-bf26-ba7d7230e5ed",
   "metadata": {},
   "outputs": [],
   "source": [
    "class Book:\n",
    "    \n",
    "    def __init__(self, name_of_book, book_author, book_title):\n",
    "        self.name_of_book = name_of_book\n",
    "        self.book_author = book_author\n",
    "        self.book_title = book_title\n",
    "        \n",
    "    def extract_details_title(self):\n",
    "        print(self.name_of_book, self.book_title)\n",
    "        \n",
    "    def extract_details_author(self):\n",
    "        print(self.name_of_book, self.book_author)"
   ]
  },
  {
   "cell_type": "code",
   "execution_count": 22,
   "id": "8f047b72-6e3a-44c8-889a-5ee1ff23bf2a",
   "metadata": {},
   "outputs": [],
   "source": [
    "book1 = Book(\"a\",\"k\",\"j\")"
   ]
  },
  {
   "cell_type": "code",
   "execution_count": 24,
   "id": "f8258db9-1c3e-4e76-81e7-0176495f84bc",
   "metadata": {},
   "outputs": [
    {
     "data": {
      "text/plain": [
       "'a'"
      ]
     },
     "execution_count": 24,
     "metadata": {},
     "output_type": "execute_result"
    }
   ],
   "source": [
    "book1.name_of_book"
   ]
  },
  {
   "cell_type": "code",
   "execution_count": 25,
   "id": "dd768a05-b310-4303-87ba-f3617339bc85",
   "metadata": {},
   "outputs": [
    {
     "data": {
      "text/plain": [
       "<bound method Book.extract_details_title of <__main__.Book object at 0x000002C664DC9250>>"
      ]
     },
     "execution_count": 25,
     "metadata": {},
     "output_type": "execute_result"
    }
   ],
   "source": [
    "book1.extract_details_title"
   ]
  },
  {
   "cell_type": "code",
   "execution_count": null,
   "id": "f7d6c017-ca56-4ea4-a367-3b84621102eb",
   "metadata": {},
   "outputs": [],
   "source": []
  }
 ],
 "metadata": {
  "kernelspec": {
   "display_name": "Python 3 (ipykernel)",
   "language": "python",
   "name": "python3"
  },
  "language_info": {
   "codemirror_mode": {
    "name": "ipython",
    "version": 3
   },
   "file_extension": ".py",
   "mimetype": "text/x-python",
   "name": "python",
   "nbconvert_exporter": "python",
   "pygments_lexer": "ipython3",
   "version": "3.11.7"
  }
 },
 "nbformat": 4,
 "nbformat_minor": 5
}
