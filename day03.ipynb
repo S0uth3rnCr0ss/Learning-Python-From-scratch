{
 "cells": [
  {
   "cell_type": "markdown",
   "id": "7082207a-2dc9-43d3-82ad-e1fc4cb98040",
   "metadata": {},
   "source": [
    "##Reversing a string"
   ]
  },
  {
   "cell_type": "code",
   "execution_count": 1,
   "id": "d56927ce-c862-44ed-9c0e-f47f589ee2d8",
   "metadata": {},
   "outputs": [],
   "source": [
    "name = \"python\""
   ]
  },
  {
   "cell_type": "code",
   "execution_count": 2,
   "id": "f8406fc4-e560-4886-a2de-4268500d4614",
   "metadata": {},
   "outputs": [
    {
     "data": {
      "text/plain": [
       "'nohtyp'"
      ]
     },
     "execution_count": 2,
     "metadata": {},
     "output_type": "execute_result"
    }
   ],
   "source": [
    "name[::-1]"
   ]
  },
  {
   "cell_type": "code",
   "execution_count": 3,
   "id": "70e14a5e-3b5e-4c45-98ad-d24b5ffde6c7",
   "metadata": {},
   "outputs": [
    {
     "data": {
      "text/plain": [
       "'nohtyp'"
      ]
     },
     "execution_count": 3,
     "metadata": {},
     "output_type": "execute_result"
    }
   ],
   "source": [
    "\"\".join(reversed(name))"
   ]
  },
  {
   "cell_type": "code",
   "execution_count": 4,
   "id": "72d8ed2d-7242-46dd-bd11-4d41659acc15",
   "metadata": {},
   "outputs": [
    {
     "data": {
      "text/plain": [
       "'n o h t y p'"
      ]
     },
     "execution_count": 4,
     "metadata": {},
     "output_type": "execute_result"
    }
   ],
   "source": [
    "\" \".join(reversed(name))"
   ]
  },
  {
   "cell_type": "code",
   "execution_count": 5,
   "id": "c1898aec-593d-4535-907f-6a1a86c976b6",
   "metadata": {},
   "outputs": [
    {
     "data": {
      "text/plain": [
       "'p y t h o n'"
      ]
     },
     "execution_count": 5,
     "metadata": {},
     "output_type": "execute_result"
    }
   ],
   "source": [
    "\" \".join(name)"
   ]
  },
  {
   "cell_type": "code",
   "execution_count": 6,
   "id": "a7d59223-2755-4f94-8cb1-f510805da42c",
   "metadata": {},
   "outputs": [
    {
     "ename": "NameError",
     "evalue": "name 'python' is not defined",
     "output_type": "error",
     "traceback": [
      "\u001b[1;31m---------------------------------------------------------------------------\u001b[0m",
      "\u001b[1;31mNameError\u001b[0m                                 Traceback (most recent call last)",
      "Cell \u001b[1;32mIn[6], line 1\u001b[0m\n\u001b[1;32m----> 1\u001b[0m \u001b[38;5;28mreversed\u001b[39m(\u001b[43mpython\u001b[49m)\n",
      "\u001b[1;31mNameError\u001b[0m: name 'python' is not defined"
     ]
    }
   ],
   "source": [
    "reversed(python)"
   ]
  },
  {
   "cell_type": "code",
   "execution_count": 7,
   "id": "d111eb7c-65f2-47f7-8c07-980f6776cc0e",
   "metadata": {},
   "outputs": [
    {
     "data": {
      "text/plain": [
       "<reversed at 0x29f27e896c0>"
      ]
     },
     "execution_count": 7,
     "metadata": {},
     "output_type": "execute_result"
    }
   ],
   "source": [
    "reversed(\"python\")"
   ]
  },
  {
   "cell_type": "code",
   "execution_count": 8,
   "id": "4a71be13-baf3-4062-b922-c6e011e3ff08",
   "metadata": {},
   "outputs": [
    {
     "ename": "NameError",
     "evalue": "name 'lst' is not defined",
     "output_type": "error",
     "traceback": [
      "\u001b[1;31m---------------------------------------------------------------------------\u001b[0m",
      "\u001b[1;31mNameError\u001b[0m                                 Traceback (most recent call last)",
      "Cell \u001b[1;32mIn[8], line 1\u001b[0m\n\u001b[1;32m----> 1\u001b[0m \u001b[43mlst\u001b[49m(\u001b[38;5;28mreversed\u001b[39m(\u001b[38;5;124m\"\u001b[39m\u001b[38;5;124mpython\u001b[39m\u001b[38;5;124m\"\u001b[39m))\n",
      "\u001b[1;31mNameError\u001b[0m: name 'lst' is not defined"
     ]
    }
   ],
   "source": [
    "lst(reversed(\"python\"))"
   ]
  },
  {
   "cell_type": "code",
   "execution_count": 9,
   "id": "a80330fb-6244-4ada-a1d9-63d092518b7c",
   "metadata": {},
   "outputs": [
    {
     "data": {
      "text/plain": [
       "['n', 'o', 'h', 't', 'y', 'p']"
      ]
     },
     "execution_count": 9,
     "metadata": {},
     "output_type": "execute_result"
    }
   ],
   "source": [
    "list(reversed(\"python\"))"
   ]
  },
  {
   "cell_type": "code",
   "execution_count": 10,
   "id": "1ba43344-2424-4d86-8b0e-9881a4ca8bda",
   "metadata": {},
   "outputs": [
    {
     "ename": "NameError",
     "evalue": "name 'lst' is not defined",
     "output_type": "error",
     "traceback": [
      "\u001b[1;31m---------------------------------------------------------------------------\u001b[0m",
      "\u001b[1;31mNameError\u001b[0m                                 Traceback (most recent call last)",
      "Cell \u001b[1;32mIn[10], line 1\u001b[0m\n\u001b[1;32m----> 1\u001b[0m \u001b[38;5;28mstr\u001b[39m(\u001b[43mlst\u001b[49m(\u001b[38;5;28mreversed\u001b[39m(\u001b[38;5;124m\"\u001b[39m\u001b[38;5;124mpython\u001b[39m\u001b[38;5;124m\"\u001b[39m)))\n",
      "\u001b[1;31mNameError\u001b[0m: name 'lst' is not defined"
     ]
    }
   ],
   "source": [
    "str(lst(reversed(\"python\")))"
   ]
  },
  {
   "cell_type": "code",
   "execution_count": 11,
   "id": "70c980bc-9a5b-4a8c-9b68-bcdfd013c339",
   "metadata": {},
   "outputs": [
    {
     "ename": "SyntaxError",
     "evalue": "incomplete input (2550023896.py, line 1)",
     "output_type": "error",
     "traceback": [
      "\u001b[1;36m  Cell \u001b[1;32mIn[11], line 1\u001b[1;36m\u001b[0m\n\u001b[1;33m    string(list(reversed(\"python\"))\u001b[0m\n\u001b[1;37m                                   ^\u001b[0m\n\u001b[1;31mSyntaxError\u001b[0m\u001b[1;31m:\u001b[0m incomplete input\n"
     ]
    }
   ],
   "source": [
    "string(list(reversed(\"python\"))"
   ]
  },
  {
   "cell_type": "code",
   "execution_count": 12,
   "id": "4f1442d7-2e4d-45d0-8c9b-8d15a81c9d20",
   "metadata": {},
   "outputs": [
    {
     "data": {
      "text/plain": [
       "\"['n', 'o', 'h', 't', 'y', 'p']\""
      ]
     },
     "execution_count": 12,
     "metadata": {},
     "output_type": "execute_result"
    }
   ],
   "source": [
    "str(list(reversed(\"python\")))"
   ]
  },
  {
   "cell_type": "markdown",
   "id": "2233bf54-a2ef-42e3-9b22-eb166fb451dd",
   "metadata": {},
   "source": [
    "#Removing characters from the end of the character"
   ]
  },
  {
   "cell_type": "code",
   "execution_count": 16,
   "id": "5e4175b0-72d4-4d3f-9c1d-fe30a90ff484",
   "metadata": {},
   "outputs": [
    {
     "ename": "NameError",
     "evalue": "name 'string' is not defined",
     "output_type": "error",
     "traceback": [
      "\u001b[1;31m---------------------------------------------------------------------------\u001b[0m",
      "\u001b[1;31mNameError\u001b[0m                                 Traceback (most recent call last)",
      "Cell \u001b[1;32mIn[16], line 1\u001b[0m\n\u001b[1;32m----> 1\u001b[0m \u001b[43mstring\u001b[49m\u001b[38;5;241m.\u001b[39mstrip()\n",
      "\u001b[1;31mNameError\u001b[0m: name 'string' is not defined"
     ]
    }
   ],
   "source": [
    "string.strip()"
   ]
  },
  {
   "cell_type": "code",
   "execution_count": 17,
   "id": "c77cea4b-90d2-4050-b172-5bef58c7488b",
   "metadata": {},
   "outputs": [
    {
     "data": {
      "text/plain": [
       "'python'"
      ]
     },
     "execution_count": 17,
     "metadata": {},
     "output_type": "execute_result"
    }
   ],
   "source": [
    "name.strip()"
   ]
  },
  {
   "cell_type": "code",
   "execution_count": 18,
   "id": "7fd80b47-a05c-4633-beb0-fe741497cb1c",
   "metadata": {},
   "outputs": [
    {
     "ename": "NameError",
     "evalue": "name 'nmae' is not defined",
     "output_type": "error",
     "traceback": [
      "\u001b[1;31m---------------------------------------------------------------------------\u001b[0m",
      "\u001b[1;31mNameError\u001b[0m                                 Traceback (most recent call last)",
      "Cell \u001b[1;32mIn[18], line 1\u001b[0m\n\u001b[1;32m----> 1\u001b[0m \u001b[43mnmae\u001b[49m\u001b[38;5;241m.\u001b[39mlstrip(\u001b[38;5;124m\"\u001b[39m\u001b[38;5;124m \u001b[39m\u001b[38;5;124m\"\u001b[39m)\n",
      "\u001b[1;31mNameError\u001b[0m: name 'nmae' is not defined"
     ]
    }
   ],
   "source": [
    "nmae.lstrip(\" \")"
   ]
  },
  {
   "cell_type": "code",
   "execution_count": 19,
   "id": "66538b82-fa81-4111-880e-5db7ef553677",
   "metadata": {},
   "outputs": [
    {
     "data": {
      "text/plain": [
       "'python'"
      ]
     },
     "execution_count": 19,
     "metadata": {},
     "output_type": "execute_result"
    }
   ],
   "source": [
    "name.lstrip(\" \")"
   ]
  },
  {
   "cell_type": "code",
   "execution_count": 20,
   "id": "a02a28b1-27a3-4ed8-bbd6-8c0d63c8a73e",
   "metadata": {},
   "outputs": [
    {
     "data": {
      "text/plain": [
       "'Python'"
      ]
     },
     "execution_count": 20,
     "metadata": {},
     "output_type": "execute_result"
    }
   ],
   "source": [
    "name.replace(\"p\",\"P\")"
   ]
  },
  {
   "cell_type": "code",
   "execution_count": 21,
   "id": "04bbfa55-9dd0-4e3f-a39e-11fc3f9e191b",
   "metadata": {},
   "outputs": [
    {
     "ename": "TypeError",
     "evalue": "'str' object does not support item assignment",
     "output_type": "error",
     "traceback": [
      "\u001b[1;31m---------------------------------------------------------------------------\u001b[0m",
      "\u001b[1;31mTypeError\u001b[0m                                 Traceback (most recent call last)",
      "Cell \u001b[1;32mIn[21], line 1\u001b[0m\n\u001b[1;32m----> 1\u001b[0m \u001b[43mname\u001b[49m\u001b[43m[\u001b[49m\u001b[38;5;241;43m0\u001b[39;49m\u001b[43m]\u001b[49m\u001b[38;5;241m=\u001b[39m\u001b[38;5;124m\"\u001b[39m\u001b[38;5;124mp\u001b[39m\u001b[38;5;124m\"\u001b[39m\n",
      "\u001b[1;31mTypeError\u001b[0m: 'str' object does not support item assignment"
     ]
    }
   ],
   "source": [
    "name[0]=\"p\""
   ]
  },
  {
   "cell_type": "code",
   "execution_count": 23,
   "id": "89eb7e11-d76e-45da-ad7b-ae1db5a89dab",
   "metadata": {},
   "outputs": [],
   "source": [
    "Name = name.replace(\"P\",\"p\")"
   ]
  },
  {
   "cell_type": "raw",
   "id": "3edca98c-664d-4f7b-be40-0ba2930ff766",
   "metadata": {},
   "source": [
    "Name"
   ]
  },
  {
   "cell_type": "code",
   "execution_count": 24,
   "id": "6d959b49-28de-47b6-b546-43b478b2f881",
   "metadata": {},
   "outputs": [
    {
     "name": "stdout",
     "output_type": "stream",
     "text": [
      "python\n"
     ]
    }
   ],
   "source": [
    "print(Name)"
   ]
  },
  {
   "cell_type": "code",
   "execution_count": 25,
   "id": "a95293bc-7acc-4d8f-ab35-7a54b4ab208d",
   "metadata": {},
   "outputs": [],
   "source": [
    "name2 = \"Hello World\""
   ]
  },
  {
   "cell_type": "code",
   "execution_count": 26,
   "id": "b8b4b337-39c9-40ea-8611-dfca54616763",
   "metadata": {},
   "outputs": [
    {
     "data": {
      "text/plain": [
       "False"
      ]
     },
     "execution_count": 26,
     "metadata": {},
     "output_type": "execute_result"
    }
   ],
   "source": [
    "name2.endswith(\"W\")"
   ]
  },
  {
   "cell_type": "code",
   "execution_count": 27,
   "id": "ebbea7be-c9e2-4745-93a3-3274221a2cb9",
   "metadata": {},
   "outputs": [
    {
     "data": {
      "text/plain": [
       "True"
      ]
     },
     "execution_count": 27,
     "metadata": {},
     "output_type": "execute_result"
    }
   ],
   "source": [
    "name.endswith(\"n\")"
   ]
  },
  {
   "cell_type": "markdown",
   "id": "cbbf544b-859d-4196-87f5-044bd1342e9a",
   "metadata": {},
   "source": [
    "Check if the code is alphanumeric"
   ]
  },
  {
   "cell_type": "code",
   "execution_count": 28,
   "id": "cd31726f-ff6d-479e-a701-292862e364e2",
   "metadata": {},
   "outputs": [],
   "source": [
    "a= \"abcd\""
   ]
  },
  {
   "cell_type": "code",
   "execution_count": 29,
   "id": "8794641c-7421-46b0-a424-5c7c30b7baa3",
   "metadata": {},
   "outputs": [
    {
     "ename": "AttributeError",
     "evalue": "'str' object has no attribute 'isnum'",
     "output_type": "error",
     "traceback": [
      "\u001b[1;31m---------------------------------------------------------------------------\u001b[0m",
      "\u001b[1;31mAttributeError\u001b[0m                            Traceback (most recent call last)",
      "Cell \u001b[1;32mIn[29], line 1\u001b[0m\n\u001b[1;32m----> 1\u001b[0m \u001b[43ma\u001b[49m\u001b[38;5;241;43m.\u001b[39;49m\u001b[43misnum\u001b[49m()\n",
      "\u001b[1;31mAttributeError\u001b[0m: 'str' object has no attribute 'isnum'"
     ]
    }
   ],
   "source": [
    "a.isnum()"
   ]
  },
  {
   "cell_type": "code",
   "execution_count": 30,
   "id": "d1d01fd2-35bd-4698-aa96-f6813623c6ac",
   "metadata": {},
   "outputs": [
    {
     "data": {
      "text/plain": [
       "True"
      ]
     },
     "execution_count": 30,
     "metadata": {},
     "output_type": "execute_result"
    }
   ],
   "source": [
    "a.isalnum()"
   ]
  },
  {
   "cell_type": "code",
   "execution_count": 1,
   "id": "4734867c-db0c-4d57-939a-f295a470a939",
   "metadata": {},
   "outputs": [
    {
     "ename": "NameError",
     "evalue": "name 'a' is not defined",
     "output_type": "error",
     "traceback": [
      "\u001b[1;31m---------------------------------------------------------------------------\u001b[0m",
      "\u001b[1;31mNameError\u001b[0m                                 Traceback (most recent call last)",
      "Cell \u001b[1;32mIn[1], line 2\u001b[0m\n\u001b[0;32m      1\u001b[0m count \u001b[38;5;241m=\u001b[39m \u001b[38;5;241m0\u001b[39m\n\u001b[1;32m----> 2\u001b[0m \u001b[38;5;28;01mfor\u001b[39;00m i \u001b[38;5;129;01min\u001b[39;00m \u001b[43ma\u001b[49m:\n\u001b[0;32m      3\u001b[0m     count \u001b[38;5;241m=\u001b[39m count\u001b[38;5;241m+\u001b[39m\u001b[38;5;241m1\u001b[39m\n\u001b[0;32m      5\u001b[0m \u001b[38;5;28mprint\u001b[39m(count)\n",
      "\u001b[1;31mNameError\u001b[0m: name 'a' is not defined"
     ]
    }
   ],
   "source": [
    "count = 0\n",
    "for i in a:\n",
    "    count = count+1\n",
    "\n",
    "print(count)"
   ]
  },
  {
   "cell_type": "code",
   "execution_count": 2,
   "id": "00046eda-a9d6-4e9f-8985-cf6fda128400",
   "metadata": {},
   "outputs": [
    {
     "ename": "NameError",
     "evalue": "name 'name' is not defined",
     "output_type": "error",
     "traceback": [
      "\u001b[1;31m---------------------------------------------------------------------------\u001b[0m",
      "\u001b[1;31mNameError\u001b[0m                                 Traceback (most recent call last)",
      "Cell \u001b[1;32mIn[2], line 2\u001b[0m\n\u001b[0;32m      1\u001b[0m count \u001b[38;5;241m=\u001b[39m \u001b[38;5;241m0\u001b[39m\n\u001b[1;32m----> 2\u001b[0m \u001b[38;5;28;01mfor\u001b[39;00m i \u001b[38;5;129;01min\u001b[39;00m \u001b[43mname\u001b[49m:\n\u001b[0;32m      3\u001b[0m     count \u001b[38;5;241m=\u001b[39m count\u001b[38;5;241m+\u001b[39m\u001b[38;5;241m1\u001b[39m\n\u001b[0;32m      5\u001b[0m \u001b[38;5;28mprint\u001b[39m(count)\n",
      "\u001b[1;31mNameError\u001b[0m: name 'name' is not defined"
     ]
    }
   ],
   "source": [
    "count = 0\n",
    "for i in name:\n",
    "    count = count+1\n",
    "\n",
    "print(count)"
   ]
  },
  {
   "cell_type": "code",
   "execution_count": 3,
   "id": "90997844-d77c-429e-838c-b8adaab5e962",
   "metadata": {},
   "outputs": [],
   "source": [
    "name = \"python\""
   ]
  },
  {
   "cell_type": "code",
   "execution_count": 4,
   "id": "8f2d19ea-6a70-405d-b73b-993fed7357cc",
   "metadata": {},
   "outputs": [
    {
     "name": "stdout",
     "output_type": "stream",
     "text": [
      "6\n"
     ]
    }
   ],
   "source": [
    "count = 0\n",
    "for i in name:\n",
    "    count = count+1\n",
    "\n",
    "print(count)"
   ]
  },
  {
   "cell_type": "code",
   "execution_count": 5,
   "id": "10bc0a01-60d1-4d94-aff1-f7bbd14e1b19",
   "metadata": {},
   "outputs": [
    {
     "name": "stdout",
     "output_type": "stream",
     "text": [
      "p\n",
      "y\n",
      "t\n",
      "h\n",
      "o\n",
      "n\n"
     ]
    }
   ],
   "source": [
    "for i in name:\n",
    "    print(i)"
   ]
  },
  {
   "cell_type": "code",
   "execution_count": 6,
   "id": "b6c41758-bc6d-47ac-98e3-62b61991157a",
   "metadata": {},
   "outputs": [
    {
     "ename": "SyntaxError",
     "evalue": "incomplete input (2056788605.py, line 1)",
     "output_type": "error",
     "traceback": [
      "\u001b[1;36m  Cell \u001b[1;32mIn[6], line 1\u001b[1;36m\u001b[0m\n\u001b[1;33m    for i in range(len(name)):\u001b[0m\n\u001b[1;37m                              ^\u001b[0m\n\u001b[1;31mSyntaxError\u001b[0m\u001b[1;31m:\u001b[0m incomplete input\n"
     ]
    }
   ],
   "source": [
    "for i in range(len(name)):"
   ]
  },
  {
   "cell_type": "code",
   "execution_count": 7,
   "id": "7bedcdf5-49f7-4444-bf94-fb4b61dd7b1e",
   "metadata": {},
   "outputs": [
    {
     "name": "stdout",
     "output_type": "stream",
     "text": [
      "0 = p\n",
      "1 = y\n",
      "2 = t\n",
      "3 = h\n",
      "4 = o\n",
      "5 = n\n"
     ]
    }
   ],
   "source": [
    "for i in range(len(name)):\n",
    "    print(i,\"=\",name[i])"
   ]
  },
  {
   "cell_type": "code",
   "execution_count": 8,
   "id": "7c607c3c-aff4-4606-8397-f01a5cb5aafe",
   "metadata": {},
   "outputs": [],
   "source": [
    "## iterate string in reverse direction"
   ]
  },
  {
   "cell_type": "code",
   "execution_count": 9,
   "id": "b50fd62f-ffbb-4b25-8e8d-1760e271403a",
   "metadata": {},
   "outputs": [
    {
     "ename": "SyntaxError",
     "evalue": "closing parenthesis ']' does not match opening parenthesis '(' (1874396552.py, line 2)",
     "output_type": "error",
     "traceback": [
      "\u001b[1;36m  Cell \u001b[1;32mIn[9], line 2\u001b[1;36m\u001b[0m\n\u001b[1;33m    print(name(i])\u001b[0m\n\u001b[1;37m                ^\u001b[0m\n\u001b[1;31mSyntaxError\u001b[0m\u001b[1;31m:\u001b[0m closing parenthesis ']' does not match opening parenthesis '('\n"
     ]
    }
   ],
   "source": [
    "for i in range(len(name)-1,-1,-1):\n",
    "    print(name(i])"
   ]
  },
  {
   "cell_type": "code",
   "execution_count": 10,
   "id": "8e7c0d52-554f-41d3-85cc-66071f0aa508",
   "metadata": {},
   "outputs": [
    {
     "name": "stdout",
     "output_type": "stream",
     "text": [
      "n\n",
      "o\n",
      "h\n",
      "t\n",
      "y\n",
      "p\n"
     ]
    }
   ],
   "source": [
    "for i in range(len(name)-1,-1,-1):\n",
    "    print(name[i])"
   ]
  },
  {
   "cell_type": "code",
   "execution_count": 11,
   "id": "b8929e0c-7ed7-4a1a-9bf9-8b85e35da95a",
   "metadata": {},
   "outputs": [
    {
     "ename": "SyntaxError",
     "evalue": "incomplete input (1604830820.py, line 2)",
     "output_type": "error",
     "traceback": [
      "\u001b[1;36m  Cell \u001b[1;32mIn[11], line 2\u001b[1;36m\u001b[0m\n\u001b[1;33m    while r>=0:\u001b[0m\n\u001b[1;37m               ^\u001b[0m\n\u001b[1;31mSyntaxError\u001b[0m\u001b[1;31m:\u001b[0m incomplete input\n"
     ]
    }
   ],
   "source": [
    "r = len(name)-1\n",
    "while r>=0:"
   ]
  },
  {
   "cell_type": "code",
   "execution_count": 12,
   "id": "f30751f0-e336-4fb2-94d5-8ff1c74b028c",
   "metadata": {},
   "outputs": [
    {
     "name": "stdout",
     "output_type": "stream",
     "text": [
      "n\n",
      "o\n",
      "h\n",
      "t\n",
      "y\n",
      "p\n"
     ]
    }
   ],
   "source": [
    "r = len(name)-1\n",
    "while r>=0:\n",
    "    print(name[r])\n",
    "    r = r-1"
   ]
  },
  {
   "cell_type": "code",
   "execution_count": 13,
   "id": "6367bd3b-ae1e-45ec-9202-397c14eb9e15",
   "metadata": {},
   "outputs": [
    {
     "data": {
      "text/plain": [
       "'y'"
      ]
     },
     "execution_count": 13,
     "metadata": {},
     "output_type": "execute_result"
    }
   ],
   "source": [
    "name[1]"
   ]
  },
  {
   "cell_type": "code",
   "execution_count": 14,
   "id": "420a4377-3ce2-4f93-8cb5-60f271f7b2fe",
   "metadata": {},
   "outputs": [],
   "source": [
    "#check if it is a vowel or not"
   ]
  },
  {
   "cell_type": "code",
   "execution_count": 15,
   "id": "c64e19d3-7431-43d0-a887-f90170844605",
   "metadata": {},
   "outputs": [],
   "source": [
    "vowels = \"AaEeIiOoUu\""
   ]
  },
  {
   "cell_type": "code",
   "execution_count": 16,
   "id": "07384fe0-197c-4d86-b9b1-2beee9e47dcd",
   "metadata": {},
   "outputs": [
    {
     "name": "stdout",
     "output_type": "stream",
     "text": [
      "p is not a vowel\n",
      "y is not a vowel\n",
      "t is not a vowel\n",
      "h is not a vowel\n",
      "o is a vowel\n",
      "n is not a vowel\n"
     ]
    }
   ],
   "source": [
    "for i in name:\n",
    "    if i in vowels:\n",
    "        print(f\"{i} is a vowel\")\n",
    "    else:\n",
    "         print(f\"{i} is not a vowel\")"
   ]
  },
  {
   "cell_type": "markdown",
   "id": "f808fa75-2e56-4e60-b206-16c56c4ff3fb",
   "metadata": {},
   "source": [
    "Lists"
   ]
  },
  {
   "cell_type": "code",
   "execution_count": 17,
   "id": "855b2266-5235-4a9f-b0df-6a733256aee0",
   "metadata": {},
   "outputs": [
    {
     "data": {
      "text/plain": [
       "list"
      ]
     },
     "execution_count": 17,
     "metadata": {},
     "output_type": "execute_result"
    }
   ],
   "source": [
    "type([])"
   ]
  },
  {
   "cell_type": "code",
   "execution_count": 18,
   "id": "1c166cf0-58f0-4fb0-959e-c38fa5204959",
   "metadata": {},
   "outputs": [
    {
     "data": {
      "text/plain": [
       "['p', 'y', 't', 'h', 'o', 'n']"
      ]
     },
     "execution_count": 18,
     "metadata": {},
     "output_type": "execute_result"
    }
   ],
   "source": [
    "list(name)"
   ]
  },
  {
   "cell_type": "code",
   "execution_count": 19,
   "id": "d8430f56-6ead-4478-be2c-fd6184a35246",
   "metadata": {},
   "outputs": [
    {
     "data": {
      "text/plain": [
       "['A', 'a', 'E', 'e', 'I', 'i', 'O', 'o', 'U', 'u']"
      ]
     },
     "execution_count": 19,
     "metadata": {},
     "output_type": "execute_result"
    }
   ],
   "source": [
    "list(vowels)"
   ]
  },
  {
   "cell_type": "code",
   "execution_count": 20,
   "id": "f426db9a-3fb1-4a0c-977a-72e6d7094d4a",
   "metadata": {},
   "outputs": [
    {
     "data": {
      "text/plain": [
       "['python']"
      ]
     },
     "execution_count": 20,
     "metadata": {},
     "output_type": "execute_result"
    }
   ],
   "source": [
    "list(name.split(\":\"))"
   ]
  },
  {
   "cell_type": "code",
   "execution_count": 21,
   "id": "5cf0e9f4-c56e-43a9-b5a2-3dfbaeb22a13",
   "metadata": {},
   "outputs": [
    {
     "data": {
      "text/plain": [
       "['python']"
      ]
     },
     "execution_count": 21,
     "metadata": {},
     "output_type": "execute_result"
    }
   ],
   "source": [
    "list(name.split(\" \"))"
   ]
  },
  {
   "cell_type": "code",
   "execution_count": 22,
   "id": "20e96826-ce3d-4a35-aae9-a95cdfda1ee7",
   "metadata": {},
   "outputs": [],
   "source": [
    "#List is  an ordered collection in elements"
   ]
  },
  {
   "cell_type": "code",
   "execution_count": 23,
   "id": "5a487d01-b8e2-49d1-aced-5ee13aa271b5",
   "metadata": {},
   "outputs": [
    {
     "data": {
      "text/plain": [
       "['python']"
      ]
     },
     "execution_count": 23,
     "metadata": {},
     "output_type": "execute_result"
    }
   ],
   "source": [
    "name.split(\" \")"
   ]
  },
  {
   "cell_type": "code",
   "execution_count": 24,
   "id": "4e65fd8e-2e10-4810-8201-db1e6747ab58",
   "metadata": {},
   "outputs": [],
   "source": [
    "lst1 = name.split(\" \")"
   ]
  },
  {
   "cell_type": "code",
   "execution_count": 25,
   "id": "c684a14c-2f7e-4c42-91f0-121959dba5a0",
   "metadata": {},
   "outputs": [],
   "source": [
    "lst = list(name)"
   ]
  },
  {
   "cell_type": "code",
   "execution_count": 26,
   "id": "6bde1a5e-1dce-4879-b1f8-32f63ae72ad1",
   "metadata": {},
   "outputs": [
    {
     "data": {
      "text/plain": [
       "['p', 'y', 't', 'h', 'o', 'n']"
      ]
     },
     "execution_count": 26,
     "metadata": {},
     "output_type": "execute_result"
    }
   ],
   "source": [
    "lst"
   ]
  },
  {
   "cell_type": "code",
   "execution_count": 27,
   "id": "efe5a01e-08c6-4ae7-9632-a92488975928",
   "metadata": {},
   "outputs": [],
   "source": [
    "lst[0] = \"P\""
   ]
  },
  {
   "cell_type": "code",
   "execution_count": 31,
   "id": "dceb618a-a926-4af4-9b5b-b2e6188a09b3",
   "metadata": {},
   "outputs": [
    {
     "data": {
      "text/plain": [
       "['P', 'y', 't', 'h', 'o', 'n']"
      ]
     },
     "execution_count": 31,
     "metadata": {},
     "output_type": "execute_result"
    }
   ],
   "source": [
    "lst"
   ]
  },
  {
   "cell_type": "code",
   "execution_count": 32,
   "id": "ae544313-4835-4bd9-83a8-c1d4b30fd6ab",
   "metadata": {},
   "outputs": [
    {
     "data": {
      "text/plain": [
       "['P', 't', 'o']"
      ]
     },
     "execution_count": 32,
     "metadata": {},
     "output_type": "execute_result"
    }
   ],
   "source": [
    "lst[::2]"
   ]
  },
  {
   "cell_type": "code",
   "execution_count": 33,
   "id": "ec2bd57b-86de-4dab-a01a-ec3a37462fbc",
   "metadata": {},
   "outputs": [],
   "source": [
    "#concatination operation"
   ]
  },
  {
   "cell_type": "code",
   "execution_count": 34,
   "id": "096c249d-4718-4889-9af8-58d3376397a9",
   "metadata": {},
   "outputs": [
    {
     "data": {
      "text/plain": [
       "['P', 'y', 't', 'h', 'o', 'n', 'newelement']"
      ]
     },
     "execution_count": 34,
     "metadata": {},
     "output_type": "execute_result"
    }
   ],
   "source": [
    "lst + [\"newelement\"]"
   ]
  },
  {
   "cell_type": "code",
   "execution_count": 35,
   "id": "c0e33ca5-e5f9-474a-b35d-f2199ffae6b7",
   "metadata": {},
   "outputs": [],
   "source": [
    "lst1 = lst + [\"newelement\"]"
   ]
  },
  {
   "cell_type": "code",
   "execution_count": 36,
   "id": "923cacc8-06fe-4a2d-ba23-a1ed61dd792f",
   "metadata": {},
   "outputs": [
    {
     "data": {
      "text/plain": [
       "['P', 'y', 't', 'h', 'o', 'n', 'newelement']"
      ]
     },
     "execution_count": 36,
     "metadata": {},
     "output_type": "execute_result"
    }
   ],
   "source": [
    "lst1"
   ]
  },
  {
   "cell_type": "code",
   "execution_count": 37,
   "id": "0a150ad2-4664-482f-82b3-90b066591176",
   "metadata": {},
   "outputs": [
    {
     "data": {
      "text/plain": [
       "list"
      ]
     },
     "execution_count": 37,
     "metadata": {},
     "output_type": "execute_result"
    }
   ],
   "source": [
    "type(lst)"
   ]
  },
  {
   "cell_type": "code",
   "execution_count": 38,
   "id": "6fcb3501-1284-4344-807f-eee718a7123d",
   "metadata": {},
   "outputs": [
    {
     "data": {
      "text/plain": [
       "['P',\n",
       " 'y',\n",
       " 't',\n",
       " 'h',\n",
       " 'o',\n",
       " 'n',\n",
       " 'newelement',\n",
       " 'P',\n",
       " 'y',\n",
       " 't',\n",
       " 'h',\n",
       " 'o',\n",
       " 'n',\n",
       " 'newelement']"
      ]
     },
     "execution_count": 38,
     "metadata": {},
     "output_type": "execute_result"
    }
   ],
   "source": [
    "lst1*2"
   ]
  },
  {
   "cell_type": "code",
   "execution_count": 39,
   "id": "fbdb08dc-83cb-4400-aa2a-f41951073589",
   "metadata": {},
   "outputs": [],
   "source": [
    "nlst=lst1*2"
   ]
  },
  {
   "cell_type": "code",
   "execution_count": 41,
   "id": "f8c6c493-d02d-47dd-881c-c6b509b0c285",
   "metadata": {},
   "outputs": [],
   "source": [
    "#check if o is present\n"
   ]
  },
  {
   "cell_type": "code",
   "execution_count": 42,
   "id": "4d00656d-01b5-48dc-838d-e8705c4d332a",
   "metadata": {},
   "outputs": [
    {
     "name": "stdout",
     "output_type": "stream",
     "text": [
      "P\n",
      "y\n",
      "t\n",
      "h\n",
      "o\n",
      "n\n",
      "newelement\n"
     ]
    }
   ],
   "source": [
    "for i in lst1:\n",
    "    print(i)"
   ]
  },
  {
   "cell_type": "code",
   "execution_count": 44,
   "id": "a5f84dd3-1ed2-4999-890c-c73f3f23b011",
   "metadata": {},
   "outputs": [
    {
     "name": "stdout",
     "output_type": "stream",
     "text": [
      "o\n"
     ]
    }
   ],
   "source": [
    "for i in lst1:\n",
    "    if i == \"o\" :\n",
    "        print(i)\n",
    "        break"
   ]
  },
  {
   "cell_type": "code",
   "execution_count": 45,
   "id": "10ce91e0-d594-4828-b715-314dfcfcc3ae",
   "metadata": {},
   "outputs": [],
   "source": [
    "#Check elements inside the list"
   ]
  },
  {
   "cell_type": "code",
   "execution_count": 48,
   "id": "108cf908-19e1-4d14-8e2e-1e3496d1925c",
   "metadata": {},
   "outputs": [
    {
     "data": {
      "text/plain": [
       "True"
      ]
     },
     "execution_count": 48,
     "metadata": {},
     "output_type": "execute_result"
    }
   ],
   "source": [
    "lst2 = [1,3,4,2,5]\n",
    "1 in lst2"
   ]
  },
  {
   "cell_type": "code",
   "execution_count": 49,
   "id": "a03d8fef-33fc-4fee-9c8c-931243d798f3",
   "metadata": {},
   "outputs": [],
   "source": [
    "lst3 = [\"Zebra\" , \"Elephant\",\"cat\", \"Lion\"]"
   ]
  },
  {
   "cell_type": "code",
   "execution_count": 50,
   "id": "cc751b0d-a7be-4f1c-a039-662e9edb686b",
   "metadata": {},
   "outputs": [
    {
     "name": "stdout",
     "output_type": "stream",
     "text": [
      "5\n"
     ]
    }
   ],
   "source": [
    "print(max(lst2))"
   ]
  },
  {
   "cell_type": "code",
   "execution_count": 51,
   "id": "776d72a9-b9a2-4012-b89e-c178597d48dc",
   "metadata": {},
   "outputs": [
    {
     "name": "stdout",
     "output_type": "stream",
     "text": [
      "cat\n"
     ]
    }
   ],
   "source": [
    "print(max(lst3))"
   ]
  },
  {
   "cell_type": "code",
   "execution_count": 52,
   "id": "30264221-8e46-4036-848f-fcaf4c18e529",
   "metadata": {},
   "outputs": [
    {
     "data": {
      "text/plain": [
       "'Elephant'"
      ]
     },
     "execution_count": 52,
     "metadata": {},
     "output_type": "execute_result"
    }
   ],
   "source": [
    "min(lst3)"
   ]
  },
  {
   "cell_type": "code",
   "execution_count": 53,
   "id": "6be71aef-fc21-43c4-b1ba-9a406a37361d",
   "metadata": {},
   "outputs": [
    {
     "data": {
      "text/plain": [
       "1"
      ]
     },
     "execution_count": 53,
     "metadata": {},
     "output_type": "execute_result"
    }
   ],
   "source": [
    "min(lst2)"
   ]
  },
  {
   "cell_type": "markdown",
   "id": "e1ea1bd6-a3c5-4a98-9e62-18f71fc404ba",
   "metadata": {},
   "source": [
    "Append"
   ]
  },
  {
   "cell_type": "code",
   "execution_count": 55,
   "id": "b1a24467-09a0-4fb0-b334-1f0b4c66609e",
   "metadata": {},
   "outputs": [],
   "source": [
    "lst2.append(7)"
   ]
  },
  {
   "cell_type": "code",
   "execution_count": 56,
   "id": "8457d30d-7296-42d5-be0e-933688bd7bd0",
   "metadata": {},
   "outputs": [
    {
     "data": {
      "text/plain": [
       "[1, 3, 4, 2, 5, 7]"
      ]
     },
     "execution_count": 56,
     "metadata": {},
     "output_type": "execute_result"
    }
   ],
   "source": [
    "lst2"
   ]
  },
  {
   "cell_type": "code",
   "execution_count": 57,
   "id": "763a3c3f-36a9-42b9-a537-efd374100dbd",
   "metadata": {},
   "outputs": [
    {
     "data": {
      "text/plain": [
       "7"
      ]
     },
     "execution_count": 57,
     "metadata": {},
     "output_type": "execute_result"
    }
   ],
   "source": [
    "lst2.pop()"
   ]
  },
  {
   "cell_type": "code",
   "execution_count": 58,
   "id": "14b34960-67a2-4fab-ae75-ba88b607f13e",
   "metadata": {},
   "outputs": [
    {
     "data": {
      "text/plain": [
       "[1, 3, 4, 2, 5]"
      ]
     },
     "execution_count": 58,
     "metadata": {},
     "output_type": "execute_result"
    }
   ],
   "source": [
    "lst2"
   ]
  },
  {
   "cell_type": "code",
   "execution_count": 59,
   "id": "aa4e7399-2e33-4c22-99c5-8d01f954fb3b",
   "metadata": {},
   "outputs": [],
   "source": [
    "lst2.append(9)"
   ]
  },
  {
   "cell_type": "code",
   "execution_count": 60,
   "id": "20262e9b-20c3-45f2-aa59-048748de8a86",
   "metadata": {},
   "outputs": [
    {
     "data": {
      "text/plain": [
       "[1, 3, 4, 2, 5, 9]"
      ]
     },
     "execution_count": 60,
     "metadata": {},
     "output_type": "execute_result"
    }
   ],
   "source": [
    "lst2"
   ]
  },
  {
   "cell_type": "code",
   "execution_count": 61,
   "id": "17d2cdc5-5aa8-46f7-9c2a-f91f0b63e117",
   "metadata": {},
   "outputs": [
    {
     "data": {
      "text/plain": [
       "4"
      ]
     },
     "execution_count": 61,
     "metadata": {},
     "output_type": "execute_result"
    }
   ],
   "source": [
    "lst2.pop(2)"
   ]
  },
  {
   "cell_type": "code",
   "execution_count": 63,
   "id": "683c575b-9d9f-4860-a6fb-19d585a71016",
   "metadata": {},
   "outputs": [
    {
     "data": {
      "text/plain": [
       "[1, 3, 2, 5, 9]"
      ]
     },
     "execution_count": 63,
     "metadata": {},
     "output_type": "execute_result"
    }
   ],
   "source": [
    "lst2"
   ]
  },
  {
   "cell_type": "code",
   "execution_count": 64,
   "id": "fec358d2-6551-425a-b54d-a346d6a343f3",
   "metadata": {},
   "outputs": [],
   "source": [
    "#Sorting and Reverse method in list"
   ]
  },
  {
   "cell_type": "code",
   "execution_count": 65,
   "id": "9022c38a-17a3-4120-80f6-f8ff8918a661",
   "metadata": {},
   "outputs": [],
   "source": [
    "lst4 = list(name)"
   ]
  },
  {
   "cell_type": "code",
   "execution_count": 66,
   "id": "0a3a1b36-72f9-4038-935e-b8269a475bc9",
   "metadata": {},
   "outputs": [
    {
     "data": {
      "text/plain": [
       "['p', 'y', 't', 'h', 'o', 'n']"
      ]
     },
     "execution_count": 66,
     "metadata": {},
     "output_type": "execute_result"
    }
   ],
   "source": [
    "lst4"
   ]
  },
  {
   "cell_type": "code",
   "execution_count": 69,
   "id": "8ef7740e-396e-4e5d-bfa2-d5e539ecf808",
   "metadata": {},
   "outputs": [
    {
     "data": {
      "text/plain": [
       "['n', 'o', 'h', 't', 'y', 'p']"
      ]
     },
     "execution_count": 69,
     "metadata": {},
     "output_type": "execute_result"
    }
   ],
   "source": [
    "lst4.reverse()\n",
    "lst4"
   ]
  },
  {
   "cell_type": "code",
   "execution_count": 71,
   "id": "9e15f735-607a-4508-a328-5d714418e41c",
   "metadata": {},
   "outputs": [
    {
     "data": {
      "text/plain": [
       "['h', 'n', 'o', 'p', 't', 'y']"
      ]
     },
     "execution_count": 71,
     "metadata": {},
     "output_type": "execute_result"
    }
   ],
   "source": [
    "lst4.sort()\n",
    "lst4"
   ]
  },
  {
   "cell_type": "code",
   "execution_count": null,
   "id": "7caca746-ce5a-4417-a9e1-df55cabc8522",
   "metadata": {},
   "outputs": [],
   "source": [
    "##Nested List"
   ]
  },
  {
   "cell_type": "code",
   "execution_count": 72,
   "id": "fc337669-2108-4b1b-b690-579b8f1e002e",
   "metadata": {},
   "outputs": [],
   "source": [
    "lst_1 = [1,3,5]\n",
    "lst_2 = [3,4,6]\n",
    "lst_3 = [5,9,0]\n",
    "matrix = [lst_1,lst_2,lst_3]"
   ]
  },
  {
   "cell_type": "code",
   "execution_count": 73,
   "id": "f1e90196-9655-4f59-a56e-03c46b0d4a14",
   "metadata": {},
   "outputs": [
    {
     "data": {
      "text/plain": [
       "[[1, 3, 5], [3, 4, 6], [5, 9, 0]]"
      ]
     },
     "execution_count": 73,
     "metadata": {},
     "output_type": "execute_result"
    }
   ],
   "source": [
    "matrix"
   ]
  },
  {
   "cell_type": "code",
   "execution_count": 75,
   "id": "9c69f231-69ac-46eb-a4a1-b02ac3bae6da",
   "metadata": {},
   "outputs": [
    {
     "data": {
      "text/plain": [
       "0"
      ]
     },
     "execution_count": 75,
     "metadata": {},
     "output_type": "execute_result"
    }
   ],
   "source": [
    "matrix[2][2]"
   ]
  },
  {
   "cell_type": "code",
   "execution_count": 76,
   "id": "aac94c25-044a-4059-ad7e-c4e09dbd6cc8",
   "metadata": {},
   "outputs": [
    {
     "data": {
      "text/plain": [
       "[3, 4, 6]"
      ]
     },
     "execution_count": 76,
     "metadata": {},
     "output_type": "execute_result"
    }
   ],
   "source": [
    "matrix[0:][1]"
   ]
  },
  {
   "cell_type": "code",
   "execution_count": 79,
   "id": "1c182c4b-e5cc-4de3-8697-9b0c1e66f0b8",
   "metadata": {},
   "outputs": [
    {
     "data": {
      "text/plain": [
       "[5]"
      ]
     },
     "execution_count": 79,
     "metadata": {},
     "output_type": "execute_result"
    }
   ],
   "source": [
    "matrix[0][2:]"
   ]
  },
  {
   "cell_type": "code",
   "execution_count": 81,
   "id": "4c791320-e18b-4616-9c27-c8fc1bdd968a",
   "metadata": {},
   "outputs": [
    {
     "ename": "SyntaxError",
     "evalue": "invalid syntax (2430153767.py, line 1)",
     "output_type": "error",
     "traceback": [
      "\u001b[1;36m  Cell \u001b[1;32mIn[81], line 1\u001b[1;36m\u001b[0m\n\u001b[1;33m    [for i in range(10)]\u001b[0m\n\u001b[1;37m     ^\u001b[0m\n\u001b[1;31mSyntaxError\u001b[0m\u001b[1;31m:\u001b[0m invalid syntax\n"
     ]
    }
   ],
   "source": [
    "[for i in range(10)]"
   ]
  },
  {
   "cell_type": "code",
   "execution_count": 82,
   "id": "eeab618e-af49-4bba-a438-0582e3ebd053",
   "metadata": {},
   "outputs": [],
   "source": [
    "#sum of even numbers and odd numbers"
   ]
  },
  {
   "cell_type": "code",
   "execution_count": 83,
   "id": "5fb06c1a-a0d8-4b83-b5f4-30327fa0569e",
   "metadata": {},
   "outputs": [
    {
     "data": {
      "text/plain": [
       "['h', 'n', 'o', 'p', 't', 'y']"
      ]
     },
     "execution_count": 83,
     "metadata": {},
     "output_type": "execute_result"
    }
   ],
   "source": [
    "lst4"
   ]
  },
  {
   "cell_type": "code",
   "execution_count": 84,
   "id": "c0f57b47-4bca-4c7c-b691-9d03bd97ee97",
   "metadata": {},
   "outputs": [
    {
     "data": {
      "text/plain": [
       "[1, 3, 2, 5, 9]"
      ]
     },
     "execution_count": 84,
     "metadata": {},
     "output_type": "execute_result"
    }
   ],
   "source": [
    "lst2"
   ]
  },
  {
   "cell_type": "code",
   "execution_count": 88,
   "id": "b5598134-a479-4cfa-8c76-2bc07451d613",
   "metadata": {},
   "outputs": [
    {
     "name": "stdout",
     "output_type": "stream",
     "text": [
      "even sum is 2\n",
      "odd sum is 18\n"
     ]
    }
   ],
   "source": [
    "evensum = 0\n",
    "oddsum = 0 \n",
    "for i in lst2:\n",
    "    if i%2 ==0:\n",
    "        evensum += i\n",
    "    else:\n",
    "        oddsum += i\n",
    "\n",
    "print(f\"even sum is {evensum}\")\n",
    "print(f\"odd sum is {oddsum}\")\n"
   ]
  },
  {
   "cell_type": "code",
   "execution_count": 92,
   "id": "d1fa4b77-a88b-4007-b267-daca4d72d492",
   "metadata": {},
   "outputs": [
    {
     "data": {
      "text/plain": [
       "2"
      ]
     },
     "execution_count": 92,
     "metadata": {},
     "output_type": "execute_result"
    }
   ],
   "source": [
    "evenum = sum([i for i in lst2 if  i%2==0])\n",
    "evensum"
   ]
  },
  {
   "cell_type": "code",
   "execution_count": 93,
   "id": "6d80734f-becf-42b9-ab99-4e86f48c1a4d",
   "metadata": {},
   "outputs": [
    {
     "data": {
      "text/plain": [
       "18"
      ]
     },
     "execution_count": 93,
     "metadata": {},
     "output_type": "execute_result"
    }
   ],
   "source": [
    "oddsum = sum([i for i in lst2 if  i%2!=0])\n",
    "oddsum"
   ]
  },
  {
   "cell_type": "code",
   "execution_count": 94,
   "id": "15eb0202-038d-4fc4-9550-3e52e23bc22f",
   "metadata": {},
   "outputs": [
    {
     "data": {
      "text/plain": [
       "[1, 9, 4, 25, 81]"
      ]
     },
     "execution_count": 94,
     "metadata": {},
     "output_type": "execute_result"
    }
   ],
   "source": [
    "[num**2 for num in lst2]"
   ]
  },
  {
   "cell_type": "code",
   "execution_count": 101,
   "id": "0947a366-29f8-4c0e-91d9-730e0528cec4",
   "metadata": {},
   "outputs": [
    {
     "data": {
      "text/plain": [
       "[89.6, 113.0, 192.20000000000002, 48.2]"
      ]
     },
     "execution_count": 101,
     "metadata": {},
     "output_type": "execute_result"
    }
   ],
   "source": [
    "#convert from celcius to fahrenheit\n",
    "celcius_temp = [32,45,89,9]\n",
    "fahrenheit_temp = [(9/5)*i+32 for i in celcius_temp]\n",
    "fahrenheit_temp"
   ]
  },
  {
   "cell_type": "code",
   "execution_count": 98,
   "id": "883907e4-1636-41b0-9058-37d3526870a9",
   "metadata": {},
   "outputs": [
    {
     "ename": "NameError",
     "evalue": "name 'celcius_temp' is not defined",
     "output_type": "error",
     "traceback": [
      "\u001b[1;31m---------------------------------------------------------------------------\u001b[0m",
      "\u001b[1;31mNameError\u001b[0m                                 Traceback (most recent call last)",
      "Cell \u001b[1;32mIn[98], line 1\u001b[0m\n\u001b[1;32m----> 1\u001b[0m fahrenheit_temp \u001b[38;5;241m=\u001b[39m [(\u001b[38;5;241m9\u001b[39m\u001b[38;5;241m/\u001b[39m\u001b[38;5;241m5\u001b[39m)\u001b[38;5;241m*\u001b[39mi\u001b[38;5;241m+\u001b[39m\u001b[38;5;241m32\u001b[39m \u001b[38;5;28;01mfor\u001b[39;00m i \u001b[38;5;129;01min\u001b[39;00m \u001b[43mcelcius_temp\u001b[49m]\n",
      "\u001b[1;31mNameError\u001b[0m: name 'celcius_temp' is not defined"
     ]
    }
   ],
   "source": []
  },
  {
   "cell_type": "code",
   "execution_count": null,
   "id": "1a84304e-b5be-4624-9d72-2927f9a9efab",
   "metadata": {},
   "outputs": [],
   "source": []
  }
 ],
 "metadata": {
  "kernelspec": {
   "display_name": "Python 3 (ipykernel)",
   "language": "python",
   "name": "python3"
  },
  "language_info": {
   "codemirror_mode": {
    "name": "ipython",
    "version": 3
   },
   "file_extension": ".py",
   "mimetype": "text/x-python",
   "name": "python",
   "nbconvert_exporter": "python",
   "pygments_lexer": "ipython3",
   "version": "3.11.7"
  }
 },
 "nbformat": 4,
 "nbformat_minor": 5
}
